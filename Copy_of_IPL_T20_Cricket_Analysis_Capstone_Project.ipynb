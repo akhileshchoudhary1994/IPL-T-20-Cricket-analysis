{
  "nbformat": 4,
  "nbformat_minor": 0,
  "metadata": {
    "kernelspec": {
      "display_name": "Python 3",
      "language": "python",
      "name": "python3"
    },
    "language_info": {
      "codemirror_mode": {
        "name": "ipython",
        "version": 3
      },
      "file_extension": ".py",
      "mimetype": "text/x-python",
      "name": "python",
      "nbconvert_exporter": "python",
      "pygments_lexer": "ipython3",
      "version": "3.6.6"
    },
    "colab": {
      "name": "Copy of IPL T20 Cricket Analysis - Capstone Project.ipynb",
      "provenance": [],
      "include_colab_link": true
    }
  },
  "cells": [
    {
      "cell_type": "markdown",
      "metadata": {
        "id": "view-in-github",
        "colab_type": "text"
      },
      "source": [
        "<a href=\"https://colab.research.google.com/github/akhileshchoudhary1994/IPL-T-20-Cricket-analysis/blob/main/Copy_of_IPL_T20_Cricket_Analysis_Capstone_Project.ipynb\" target=\"_parent\"><img src=\"https://colab.research.google.com/assets/colab-badge.svg\" alt=\"Open In Colab\"/></a>"
      ]
    },
    {
      "cell_type": "markdown",
      "metadata": {
        "id": "Y06xIdG26kRF"
      },
      "source": [
        "## <b> Indian Premier League(IPL) is a professional Twenty20 cricket league in India contested during March or April and May of every year by eight teams representing eight different cities in India. The league was founded by the Board of Control for Cricket in India(BCCI) in 2008. </b>\n",
        "\n",
        "## <b> Explore and analyze the data to discover results and statistics for different teams playing in IPL. </b>"
      ]
    },
    {
      "cell_type": "code",
      "metadata": {
        "id": "dByMsuzT8Tnw"
      },
      "source": [
        "import pandas as pd\n",
        "import numpy as np\n",
        "from ast import literal_eval\n",
        "import seaborn as sns\n",
        "sns.set(rc={'figure.figsize':(30,21)})"
      ],
      "execution_count": 1,
      "outputs": []
    },
    {
      "cell_type": "code",
      "metadata": {
        "colab": {
          "base_uri": "https://localhost:8080/"
        },
        "id": "rEiTW52CSMj2",
        "outputId": "be5578f8-bace-4c1c-8240-6da66ce0be2d"
      },
      "source": [
        "from google.colab import drive\n",
        "drive.mount('/content/drive')"
      ],
      "execution_count": 2,
      "outputs": [
        {
          "output_type": "stream",
          "text": [
            "Mounted at /content/drive\n"
          ],
          "name": "stdout"
        }
      ]
    },
    {
      "cell_type": "code",
      "metadata": {
        "id": "Y2FEhuvcSSnd",
        "colab": {
          "base_uri": "https://localhost:8080/",
          "height": 111
        },
        "outputId": "c2571b01-44b8-4896-aaa6-74e4fe48de5d"
      },
      "source": [
        "working_directory = '/content/drive/My Drive/'\n",
        "team_csv= pd.read_csv(working_directory + 'teams.csv')\n",
        "team_csv.head(2)"
      ],
      "execution_count": 3,
      "outputs": [
        {
          "output_type": "execute_result",
          "data": {
            "text/html": [
              "<div>\n",
              "<style scoped>\n",
              "    .dataframe tbody tr th:only-of-type {\n",
              "        vertical-align: middle;\n",
              "    }\n",
              "\n",
              "    .dataframe tbody tr th {\n",
              "        vertical-align: top;\n",
              "    }\n",
              "\n",
              "    .dataframe thead th {\n",
              "        text-align: right;\n",
              "    }\n",
              "</style>\n",
              "<table border=\"1\" class=\"dataframe\">\n",
              "  <thead>\n",
              "    <tr style=\"text-align: right;\">\n",
              "      <th></th>\n",
              "      <th>team1</th>\n",
              "    </tr>\n",
              "  </thead>\n",
              "  <tbody>\n",
              "    <tr>\n",
              "      <th>0</th>\n",
              "      <td>Pune Warriors</td>\n",
              "    </tr>\n",
              "    <tr>\n",
              "      <th>1</th>\n",
              "      <td>Kolkata Knight Riders</td>\n",
              "    </tr>\n",
              "  </tbody>\n",
              "</table>\n",
              "</div>"
            ],
            "text/plain": [
              "                   team1\n",
              "0          Pune Warriors\n",
              "1  Kolkata Knight Riders"
            ]
          },
          "metadata": {
            "tags": []
          },
          "execution_count": 3
        }
      ]
    },
    {
      "cell_type": "code",
      "metadata": {
        "id": "XkISsbIOTPZj",
        "colab": {
          "base_uri": "https://localhost:8080/"
        },
        "outputId": "dca824d8-0a39-4347-cd30-342b87b0789d"
      },
      "source": [
        "delievery_csv=pd.read_csv(working_directory + 'deliveries.csv')\n",
        "delievery_csv[\"dismissal_kind\"].value_counts()\n"
      ],
      "execution_count": 4,
      "outputs": [
        {
          "output_type": "execute_result",
          "data": {
            "text/plain": [
              "caught                   5348\n",
              "bowled                   1581\n",
              "run out                   852\n",
              "lbw                       540\n",
              "stumped                   278\n",
              "caught and bowled         211\n",
              "retired hurt               12\n",
              "hit wicket                 10\n",
              "obstructing the field       2\n",
              "Name: dismissal_kind, dtype: int64"
            ]
          },
          "metadata": {
            "tags": []
          },
          "execution_count": 4
        }
      ]
    },
    {
      "cell_type": "code",
      "metadata": {
        "id": "eRw8_fEBYTqq",
        "colab": {
          "base_uri": "https://localhost:8080/",
          "height": 250
        },
        "outputId": "78b1a706-8826-4959-f08b-98b0238a542b"
      },
      "source": [
        "matches_csv=pd.read_csv(working_directory + 'matches.csv')\n",
        "matches_csv.head(2)\n",
        "\n"
      ],
      "execution_count": null,
      "outputs": [
        {
          "output_type": "execute_result",
          "data": {
            "text/html": [
              "<div>\n",
              "<style scoped>\n",
              "    .dataframe tbody tr th:only-of-type {\n",
              "        vertical-align: middle;\n",
              "    }\n",
              "\n",
              "    .dataframe tbody tr th {\n",
              "        vertical-align: top;\n",
              "    }\n",
              "\n",
              "    .dataframe thead th {\n",
              "        text-align: right;\n",
              "    }\n",
              "</style>\n",
              "<table border=\"1\" class=\"dataframe\">\n",
              "  <thead>\n",
              "    <tr style=\"text-align: right;\">\n",
              "      <th></th>\n",
              "      <th>id</th>\n",
              "      <th>Season</th>\n",
              "      <th>city</th>\n",
              "      <th>date</th>\n",
              "      <th>team1</th>\n",
              "      <th>team2</th>\n",
              "      <th>toss_winner</th>\n",
              "      <th>toss_decision</th>\n",
              "      <th>result</th>\n",
              "      <th>dl_applied</th>\n",
              "      <th>winner</th>\n",
              "      <th>win_by_runs</th>\n",
              "      <th>win_by_wickets</th>\n",
              "      <th>player_of_match</th>\n",
              "      <th>venue</th>\n",
              "      <th>umpire1</th>\n",
              "      <th>umpire2</th>\n",
              "      <th>umpire3</th>\n",
              "    </tr>\n",
              "  </thead>\n",
              "  <tbody>\n",
              "    <tr>\n",
              "      <th>0</th>\n",
              "      <td>1</td>\n",
              "      <td>IPL-2017</td>\n",
              "      <td>Hyderabad</td>\n",
              "      <td>05-04-2017</td>\n",
              "      <td>Sunrisers Hyderabad</td>\n",
              "      <td>Royal Challengers Bangalore</td>\n",
              "      <td>Royal Challengers Bangalore</td>\n",
              "      <td>field</td>\n",
              "      <td>normal</td>\n",
              "      <td>0</td>\n",
              "      <td>Sunrisers Hyderabad</td>\n",
              "      <td>35</td>\n",
              "      <td>0</td>\n",
              "      <td>Yuvraj Singh</td>\n",
              "      <td>Rajiv Gandhi International Stadium, Uppal</td>\n",
              "      <td>AY Dandekar</td>\n",
              "      <td>NJ Llong</td>\n",
              "      <td>NaN</td>\n",
              "    </tr>\n",
              "    <tr>\n",
              "      <th>1</th>\n",
              "      <td>2</td>\n",
              "      <td>IPL-2017</td>\n",
              "      <td>Pune</td>\n",
              "      <td>06-04-2017</td>\n",
              "      <td>Mumbai Indians</td>\n",
              "      <td>Rising Pune Supergiant</td>\n",
              "      <td>Rising Pune Supergiant</td>\n",
              "      <td>field</td>\n",
              "      <td>normal</td>\n",
              "      <td>0</td>\n",
              "      <td>Rising Pune Supergiant</td>\n",
              "      <td>0</td>\n",
              "      <td>7</td>\n",
              "      <td>SPD Smith</td>\n",
              "      <td>Maharashtra Cricket Association Stadium</td>\n",
              "      <td>A Nand Kishore</td>\n",
              "      <td>S Ravi</td>\n",
              "      <td>NaN</td>\n",
              "    </tr>\n",
              "  </tbody>\n",
              "</table>\n",
              "</div>"
            ],
            "text/plain": [
              "   id    Season       city  ...         umpire1   umpire2 umpire3\n",
              "0   1  IPL-2017  Hyderabad  ...     AY Dandekar  NJ Llong     NaN\n",
              "1   2  IPL-2017       Pune  ...  A Nand Kishore    S Ravi     NaN\n",
              "\n",
              "[2 rows x 18 columns]"
            ]
          },
          "metadata": {
            "tags": []
          },
          "execution_count": 6
        }
      ]
    },
    {
      "cell_type": "code",
      "metadata": {
        "id": "dMGu7sxDJ-m8"
      },
      "source": [
        "teamwise_home_and_away=pd.read_csv(working_directory + 'teamwise_home_and_away.csv')"
      ],
      "execution_count": null,
      "outputs": []
    },
    {
      "cell_type": "code",
      "metadata": {
        "id": "SXr3uoKVZCfV"
      },
      "source": [
        "mostrun_average_strikerate=pd.read_csv(working_directory + 'most_runs_average_strikerate.csv')"
      ],
      "execution_count": null,
      "outputs": []
    },
    {
      "cell_type": "code",
      "metadata": {
        "id": "j2EUuRW5ZjZx",
        "colab": {
          "base_uri": "https://localhost:8080/",
          "height": 419
        },
        "outputId": "3abd300e-bd22-4d03-a10a-6120141f7229"
      },
      "source": [
        "players=pd.read_excel(working_directory + 'Players.xlsx')\n",
        "players"
      ],
      "execution_count": null,
      "outputs": [
        {
          "output_type": "execute_result",
          "data": {
            "text/html": [
              "<div>\n",
              "<style scoped>\n",
              "    .dataframe tbody tr th:only-of-type {\n",
              "        vertical-align: middle;\n",
              "    }\n",
              "\n",
              "    .dataframe tbody tr th {\n",
              "        vertical-align: top;\n",
              "    }\n",
              "\n",
              "    .dataframe thead th {\n",
              "        text-align: right;\n",
              "    }\n",
              "</style>\n",
              "<table border=\"1\" class=\"dataframe\">\n",
              "  <thead>\n",
              "    <tr style=\"text-align: right;\">\n",
              "      <th></th>\n",
              "      <th>Player_Name</th>\n",
              "      <th>DOB</th>\n",
              "      <th>Batting_Hand</th>\n",
              "      <th>Bowling_Skill</th>\n",
              "      <th>Country</th>\n",
              "    </tr>\n",
              "  </thead>\n",
              "  <tbody>\n",
              "    <tr>\n",
              "      <th>0</th>\n",
              "      <td>A Ashish Reddy</td>\n",
              "      <td>1991-02-24</td>\n",
              "      <td>Right_Hand</td>\n",
              "      <td>Right-arm medium</td>\n",
              "      <td>India</td>\n",
              "    </tr>\n",
              "    <tr>\n",
              "      <th>1</th>\n",
              "      <td>A Chandila</td>\n",
              "      <td>1983-12-05</td>\n",
              "      <td>Right_Hand</td>\n",
              "      <td>Right-arm offbreak</td>\n",
              "      <td>India</td>\n",
              "    </tr>\n",
              "    <tr>\n",
              "      <th>2</th>\n",
              "      <td>A Chopra</td>\n",
              "      <td>1977-09-19</td>\n",
              "      <td>Right_Hand</td>\n",
              "      <td>Right-arm offbreak</td>\n",
              "      <td>India</td>\n",
              "    </tr>\n",
              "    <tr>\n",
              "      <th>3</th>\n",
              "      <td>A Choudhary</td>\n",
              "      <td>NaT</td>\n",
              "      <td>Right_hand</td>\n",
              "      <td>Left-arm fast-medium</td>\n",
              "      <td>NaN</td>\n",
              "    </tr>\n",
              "    <tr>\n",
              "      <th>4</th>\n",
              "      <td>A Dananjaya</td>\n",
              "      <td>NaT</td>\n",
              "      <td>Right_Hand</td>\n",
              "      <td>Right-arm offbreak</td>\n",
              "      <td>NaN</td>\n",
              "    </tr>\n",
              "    <tr>\n",
              "      <th>...</th>\n",
              "      <td>...</td>\n",
              "      <td>...</td>\n",
              "      <td>...</td>\n",
              "      <td>...</td>\n",
              "      <td>...</td>\n",
              "    </tr>\n",
              "    <tr>\n",
              "      <th>561</th>\n",
              "      <td>Younis Khan</td>\n",
              "      <td>1977-11-29</td>\n",
              "      <td>Right_Hand</td>\n",
              "      <td>Right-arm medium</td>\n",
              "      <td>Pakistan</td>\n",
              "    </tr>\n",
              "    <tr>\n",
              "      <th>562</th>\n",
              "      <td>YS Chahal</td>\n",
              "      <td>1990-07-23</td>\n",
              "      <td>Right_Hand</td>\n",
              "      <td>Legbreak googly</td>\n",
              "      <td>India</td>\n",
              "    </tr>\n",
              "    <tr>\n",
              "      <th>563</th>\n",
              "      <td>Yuvraj Singh</td>\n",
              "      <td>1981-12-12</td>\n",
              "      <td>Left_Hand</td>\n",
              "      <td>Slow left-arm orthodox</td>\n",
              "      <td>India</td>\n",
              "    </tr>\n",
              "    <tr>\n",
              "      <th>564</th>\n",
              "      <td>YV Takawale</td>\n",
              "      <td>1984-11-05</td>\n",
              "      <td>Right_Hand</td>\n",
              "      <td>NaN</td>\n",
              "      <td>India</td>\n",
              "    </tr>\n",
              "    <tr>\n",
              "      <th>565</th>\n",
              "      <td>Z Khan</td>\n",
              "      <td>1978-10-07</td>\n",
              "      <td>Right_Hand</td>\n",
              "      <td>Left-arm fast-medium</td>\n",
              "      <td>India</td>\n",
              "    </tr>\n",
              "  </tbody>\n",
              "</table>\n",
              "<p>566 rows × 5 columns</p>\n",
              "</div>"
            ],
            "text/plain": [
              "        Player_Name        DOB Batting_Hand           Bowling_Skill   Country\n",
              "0    A Ashish Reddy 1991-02-24   Right_Hand        Right-arm medium     India\n",
              "1        A Chandila 1983-12-05   Right_Hand      Right-arm offbreak     India\n",
              "2          A Chopra 1977-09-19   Right_Hand      Right-arm offbreak     India\n",
              "3       A Choudhary        NaT   Right_hand    Left-arm fast-medium       NaN\n",
              "4       A Dananjaya        NaT   Right_Hand      Right-arm offbreak       NaN\n",
              "..              ...        ...          ...                     ...       ...\n",
              "561     Younis Khan 1977-11-29   Right_Hand        Right-arm medium  Pakistan\n",
              "562       YS Chahal 1990-07-23   Right_Hand         Legbreak googly     India\n",
              "563    Yuvraj Singh 1981-12-12    Left_Hand  Slow left-arm orthodox     India\n",
              "564     YV Takawale 1984-11-05   Right_Hand                     NaN     India\n",
              "565          Z Khan 1978-10-07   Right_Hand    Left-arm fast-medium     India\n",
              "\n",
              "[566 rows x 5 columns]"
            ]
          },
          "metadata": {
            "tags": []
          },
          "execution_count": 26
        }
      ]
    },
    {
      "cell_type": "code",
      "metadata": {
        "colab": {
          "base_uri": "https://localhost:8080/",
          "height": 514
        },
        "id": "Hi-6QZHHZ23V",
        "outputId": "8a1a0d79-4379-446f-b485-3aa3b3d1cc27"
      },
      "source": [
        "team_csv"
      ],
      "execution_count": null,
      "outputs": [
        {
          "output_type": "execute_result",
          "data": {
            "text/html": [
              "<div>\n",
              "<style scoped>\n",
              "    .dataframe tbody tr th:only-of-type {\n",
              "        vertical-align: middle;\n",
              "    }\n",
              "\n",
              "    .dataframe tbody tr th {\n",
              "        vertical-align: top;\n",
              "    }\n",
              "\n",
              "    .dataframe thead th {\n",
              "        text-align: right;\n",
              "    }\n",
              "</style>\n",
              "<table border=\"1\" class=\"dataframe\">\n",
              "  <thead>\n",
              "    <tr style=\"text-align: right;\">\n",
              "      <th></th>\n",
              "      <th>team1</th>\n",
              "    </tr>\n",
              "  </thead>\n",
              "  <tbody>\n",
              "    <tr>\n",
              "      <th>0</th>\n",
              "      <td>Pune Warriors</td>\n",
              "    </tr>\n",
              "    <tr>\n",
              "      <th>1</th>\n",
              "      <td>Kolkata Knight Riders</td>\n",
              "    </tr>\n",
              "    <tr>\n",
              "      <th>2</th>\n",
              "      <td>Rajasthan Royals</td>\n",
              "    </tr>\n",
              "    <tr>\n",
              "      <th>3</th>\n",
              "      <td>Kochi Tuskers Kerala</td>\n",
              "    </tr>\n",
              "    <tr>\n",
              "      <th>4</th>\n",
              "      <td>Gujarat Lions</td>\n",
              "    </tr>\n",
              "    <tr>\n",
              "      <th>5</th>\n",
              "      <td>Chennai Super Kings</td>\n",
              "    </tr>\n",
              "    <tr>\n",
              "      <th>6</th>\n",
              "      <td>Rising Pune Supergiants</td>\n",
              "    </tr>\n",
              "    <tr>\n",
              "      <th>7</th>\n",
              "      <td>Delhi Daredevils</td>\n",
              "    </tr>\n",
              "    <tr>\n",
              "      <th>8</th>\n",
              "      <td>Deccan Chargers</td>\n",
              "    </tr>\n",
              "    <tr>\n",
              "      <th>9</th>\n",
              "      <td>Delhi Capitals</td>\n",
              "    </tr>\n",
              "    <tr>\n",
              "      <th>10</th>\n",
              "      <td>Mumbai Indians</td>\n",
              "    </tr>\n",
              "    <tr>\n",
              "      <th>11</th>\n",
              "      <td>Sunrisers Hyderabad</td>\n",
              "    </tr>\n",
              "    <tr>\n",
              "      <th>12</th>\n",
              "      <td>Rising Pune Supergiant</td>\n",
              "    </tr>\n",
              "    <tr>\n",
              "      <th>13</th>\n",
              "      <td>Royal Challengers Bangalore</td>\n",
              "    </tr>\n",
              "    <tr>\n",
              "      <th>14</th>\n",
              "      <td>Kings XI Punjab</td>\n",
              "    </tr>\n",
              "  </tbody>\n",
              "</table>\n",
              "</div>"
            ],
            "text/plain": [
              "                          team1\n",
              "0                 Pune Warriors\n",
              "1         Kolkata Knight Riders\n",
              "2              Rajasthan Royals\n",
              "3          Kochi Tuskers Kerala\n",
              "4                 Gujarat Lions\n",
              "5           Chennai Super Kings\n",
              "6       Rising Pune Supergiants\n",
              "7              Delhi Daredevils\n",
              "8               Deccan Chargers\n",
              "9                Delhi Capitals\n",
              "10               Mumbai Indians\n",
              "11          Sunrisers Hyderabad\n",
              "12       Rising Pune Supergiant\n",
              "13  Royal Challengers Bangalore\n",
              "14              Kings XI Punjab"
            ]
          },
          "metadata": {
            "tags": []
          },
          "execution_count": 10
        }
      ]
    },
    {
      "cell_type": "code",
      "metadata": {
        "colab": {
          "base_uri": "https://localhost:8080/",
          "height": 394
        },
        "id": "rhevqH0iZ8R1",
        "outputId": "ed3e8193-96ca-4729-ca40-aef3a6e43c2e"
      },
      "source": [
        "delievery_csv.head()"
      ],
      "execution_count": null,
      "outputs": [
        {
          "output_type": "execute_result",
          "data": {
            "text/html": [
              "<div>\n",
              "<style scoped>\n",
              "    .dataframe tbody tr th:only-of-type {\n",
              "        vertical-align: middle;\n",
              "    }\n",
              "\n",
              "    .dataframe tbody tr th {\n",
              "        vertical-align: top;\n",
              "    }\n",
              "\n",
              "    .dataframe thead th {\n",
              "        text-align: right;\n",
              "    }\n",
              "</style>\n",
              "<table border=\"1\" class=\"dataframe\">\n",
              "  <thead>\n",
              "    <tr style=\"text-align: right;\">\n",
              "      <th></th>\n",
              "      <th>match_id</th>\n",
              "      <th>inning</th>\n",
              "      <th>batting_team</th>\n",
              "      <th>bowling_team</th>\n",
              "      <th>over</th>\n",
              "      <th>ball</th>\n",
              "      <th>batsman</th>\n",
              "      <th>non_striker</th>\n",
              "      <th>bowler</th>\n",
              "      <th>is_super_over</th>\n",
              "      <th>wide_runs</th>\n",
              "      <th>bye_runs</th>\n",
              "      <th>legbye_runs</th>\n",
              "      <th>noball_runs</th>\n",
              "      <th>penalty_runs</th>\n",
              "      <th>batsman_runs</th>\n",
              "      <th>extra_runs</th>\n",
              "      <th>total_runs</th>\n",
              "      <th>player_dismissed</th>\n",
              "      <th>dismissal_kind</th>\n",
              "      <th>fielder</th>\n",
              "    </tr>\n",
              "  </thead>\n",
              "  <tbody>\n",
              "    <tr>\n",
              "      <th>0</th>\n",
              "      <td>1</td>\n",
              "      <td>1</td>\n",
              "      <td>Sunrisers Hyderabad</td>\n",
              "      <td>Royal Challengers Bangalore</td>\n",
              "      <td>1</td>\n",
              "      <td>1</td>\n",
              "      <td>DA Warner</td>\n",
              "      <td>S Dhawan</td>\n",
              "      <td>TS Mills</td>\n",
              "      <td>0</td>\n",
              "      <td>0</td>\n",
              "      <td>0</td>\n",
              "      <td>0</td>\n",
              "      <td>0</td>\n",
              "      <td>0</td>\n",
              "      <td>0</td>\n",
              "      <td>0</td>\n",
              "      <td>0</td>\n",
              "      <td>NaN</td>\n",
              "      <td>NaN</td>\n",
              "      <td>NaN</td>\n",
              "    </tr>\n",
              "    <tr>\n",
              "      <th>1</th>\n",
              "      <td>1</td>\n",
              "      <td>1</td>\n",
              "      <td>Sunrisers Hyderabad</td>\n",
              "      <td>Royal Challengers Bangalore</td>\n",
              "      <td>1</td>\n",
              "      <td>2</td>\n",
              "      <td>DA Warner</td>\n",
              "      <td>S Dhawan</td>\n",
              "      <td>TS Mills</td>\n",
              "      <td>0</td>\n",
              "      <td>0</td>\n",
              "      <td>0</td>\n",
              "      <td>0</td>\n",
              "      <td>0</td>\n",
              "      <td>0</td>\n",
              "      <td>0</td>\n",
              "      <td>0</td>\n",
              "      <td>0</td>\n",
              "      <td>NaN</td>\n",
              "      <td>NaN</td>\n",
              "      <td>NaN</td>\n",
              "    </tr>\n",
              "    <tr>\n",
              "      <th>2</th>\n",
              "      <td>1</td>\n",
              "      <td>1</td>\n",
              "      <td>Sunrisers Hyderabad</td>\n",
              "      <td>Royal Challengers Bangalore</td>\n",
              "      <td>1</td>\n",
              "      <td>3</td>\n",
              "      <td>DA Warner</td>\n",
              "      <td>S Dhawan</td>\n",
              "      <td>TS Mills</td>\n",
              "      <td>0</td>\n",
              "      <td>0</td>\n",
              "      <td>0</td>\n",
              "      <td>0</td>\n",
              "      <td>0</td>\n",
              "      <td>0</td>\n",
              "      <td>4</td>\n",
              "      <td>0</td>\n",
              "      <td>4</td>\n",
              "      <td>NaN</td>\n",
              "      <td>NaN</td>\n",
              "      <td>NaN</td>\n",
              "    </tr>\n",
              "    <tr>\n",
              "      <th>3</th>\n",
              "      <td>1</td>\n",
              "      <td>1</td>\n",
              "      <td>Sunrisers Hyderabad</td>\n",
              "      <td>Royal Challengers Bangalore</td>\n",
              "      <td>1</td>\n",
              "      <td>4</td>\n",
              "      <td>DA Warner</td>\n",
              "      <td>S Dhawan</td>\n",
              "      <td>TS Mills</td>\n",
              "      <td>0</td>\n",
              "      <td>0</td>\n",
              "      <td>0</td>\n",
              "      <td>0</td>\n",
              "      <td>0</td>\n",
              "      <td>0</td>\n",
              "      <td>0</td>\n",
              "      <td>0</td>\n",
              "      <td>0</td>\n",
              "      <td>NaN</td>\n",
              "      <td>NaN</td>\n",
              "      <td>NaN</td>\n",
              "    </tr>\n",
              "    <tr>\n",
              "      <th>4</th>\n",
              "      <td>1</td>\n",
              "      <td>1</td>\n",
              "      <td>Sunrisers Hyderabad</td>\n",
              "      <td>Royal Challengers Bangalore</td>\n",
              "      <td>1</td>\n",
              "      <td>5</td>\n",
              "      <td>DA Warner</td>\n",
              "      <td>S Dhawan</td>\n",
              "      <td>TS Mills</td>\n",
              "      <td>0</td>\n",
              "      <td>2</td>\n",
              "      <td>0</td>\n",
              "      <td>0</td>\n",
              "      <td>0</td>\n",
              "      <td>0</td>\n",
              "      <td>0</td>\n",
              "      <td>2</td>\n",
              "      <td>2</td>\n",
              "      <td>NaN</td>\n",
              "      <td>NaN</td>\n",
              "      <td>NaN</td>\n",
              "    </tr>\n",
              "  </tbody>\n",
              "</table>\n",
              "</div>"
            ],
            "text/plain": [
              "   match_id  inning  ... dismissal_kind fielder\n",
              "0         1       1  ...            NaN     NaN\n",
              "1         1       1  ...            NaN     NaN\n",
              "2         1       1  ...            NaN     NaN\n",
              "3         1       1  ...            NaN     NaN\n",
              "4         1       1  ...            NaN     NaN\n",
              "\n",
              "[5 rows x 21 columns]"
            ]
          },
          "metadata": {
            "tags": []
          },
          "execution_count": 11
        }
      ]
    },
    {
      "cell_type": "code",
      "metadata": {
        "colab": {
          "base_uri": "https://localhost:8080/",
          "height": 773
        },
        "id": "n2TbqirWaFIe",
        "outputId": "210b3cb4-055b-418d-8dd4-76ad1ebce966"
      },
      "source": [
        "l=matches_csv[matches_csv[\"Season\"]==\"IPL-2017\"]\n",
        "l[l[\"team1\"]==\"Sunrisers Hyderabad\"]"
      ],
      "execution_count": null,
      "outputs": [
        {
          "output_type": "execute_result",
          "data": {
            "text/html": [
              "<div>\n",
              "<style scoped>\n",
              "    .dataframe tbody tr th:only-of-type {\n",
              "        vertical-align: middle;\n",
              "    }\n",
              "\n",
              "    .dataframe tbody tr th {\n",
              "        vertical-align: top;\n",
              "    }\n",
              "\n",
              "    .dataframe thead th {\n",
              "        text-align: right;\n",
              "    }\n",
              "</style>\n",
              "<table border=\"1\" class=\"dataframe\">\n",
              "  <thead>\n",
              "    <tr style=\"text-align: right;\">\n",
              "      <th></th>\n",
              "      <th>id</th>\n",
              "      <th>Season</th>\n",
              "      <th>city</th>\n",
              "      <th>date</th>\n",
              "      <th>team1</th>\n",
              "      <th>team2</th>\n",
              "      <th>toss_winner</th>\n",
              "      <th>toss_decision</th>\n",
              "      <th>result</th>\n",
              "      <th>dl_applied</th>\n",
              "      <th>winner</th>\n",
              "      <th>win_by_runs</th>\n",
              "      <th>win_by_wickets</th>\n",
              "      <th>player_of_match</th>\n",
              "      <th>venue</th>\n",
              "      <th>umpire1</th>\n",
              "      <th>umpire2</th>\n",
              "      <th>umpire3</th>\n",
              "    </tr>\n",
              "  </thead>\n",
              "  <tbody>\n",
              "    <tr>\n",
              "      <th>0</th>\n",
              "      <td>1</td>\n",
              "      <td>IPL-2017</td>\n",
              "      <td>Hyderabad</td>\n",
              "      <td>05-04-2017</td>\n",
              "      <td>Sunrisers Hyderabad</td>\n",
              "      <td>Royal Challengers Bangalore</td>\n",
              "      <td>Royal Challengers Bangalore</td>\n",
              "      <td>field</td>\n",
              "      <td>normal</td>\n",
              "      <td>0</td>\n",
              "      <td>Sunrisers Hyderabad</td>\n",
              "      <td>35</td>\n",
              "      <td>0</td>\n",
              "      <td>Yuvraj Singh</td>\n",
              "      <td>Rajiv Gandhi International Stadium, Uppal</td>\n",
              "      <td>AY Dandekar</td>\n",
              "      <td>NJ Llong</td>\n",
              "      <td>NaN</td>\n",
              "    </tr>\n",
              "    <tr>\n",
              "      <th>9</th>\n",
              "      <td>10</td>\n",
              "      <td>IPL-2017</td>\n",
              "      <td>Mumbai</td>\n",
              "      <td>12-04-2017</td>\n",
              "      <td>Sunrisers Hyderabad</td>\n",
              "      <td>Mumbai Indians</td>\n",
              "      <td>Mumbai Indians</td>\n",
              "      <td>field</td>\n",
              "      <td>normal</td>\n",
              "      <td>0</td>\n",
              "      <td>Mumbai Indians</td>\n",
              "      <td>0</td>\n",
              "      <td>4</td>\n",
              "      <td>JJ Bumrah</td>\n",
              "      <td>Wankhede Stadium</td>\n",
              "      <td>Nitin Menon</td>\n",
              "      <td>CK Nandan</td>\n",
              "      <td>NaN</td>\n",
              "    </tr>\n",
              "    <tr>\n",
              "      <th>18</th>\n",
              "      <td>19</td>\n",
              "      <td>IPL-2017</td>\n",
              "      <td>Hyderabad</td>\n",
              "      <td>17-04-2017</td>\n",
              "      <td>Sunrisers Hyderabad</td>\n",
              "      <td>Kings XI Punjab</td>\n",
              "      <td>Kings XI Punjab</td>\n",
              "      <td>field</td>\n",
              "      <td>normal</td>\n",
              "      <td>0</td>\n",
              "      <td>Sunrisers Hyderabad</td>\n",
              "      <td>5</td>\n",
              "      <td>0</td>\n",
              "      <td>B Kumar</td>\n",
              "      <td>Rajiv Gandhi International Stadium, Uppal</td>\n",
              "      <td>AY Dandekar</td>\n",
              "      <td>A Deshmukh</td>\n",
              "      <td>NaN</td>\n",
              "    </tr>\n",
              "    <tr>\n",
              "      <th>20</th>\n",
              "      <td>21</td>\n",
              "      <td>IPL-2017</td>\n",
              "      <td>Hyderabad</td>\n",
              "      <td>19-04-2017</td>\n",
              "      <td>Sunrisers Hyderabad</td>\n",
              "      <td>Delhi Daredevils</td>\n",
              "      <td>Sunrisers Hyderabad</td>\n",
              "      <td>bat</td>\n",
              "      <td>normal</td>\n",
              "      <td>0</td>\n",
              "      <td>Sunrisers Hyderabad</td>\n",
              "      <td>15</td>\n",
              "      <td>0</td>\n",
              "      <td>KS Williamson</td>\n",
              "      <td>Rajiv Gandhi International Stadium, Uppal</td>\n",
              "      <td>CB Gaffaney</td>\n",
              "      <td>NJ Llong</td>\n",
              "      <td>NaN</td>\n",
              "    </tr>\n",
              "    <tr>\n",
              "      <th>24</th>\n",
              "      <td>25</td>\n",
              "      <td>IPL-2017</td>\n",
              "      <td>Pune</td>\n",
              "      <td>22-04-2017</td>\n",
              "      <td>Sunrisers Hyderabad</td>\n",
              "      <td>Rising Pune Supergiant</td>\n",
              "      <td>Rising Pune Supergiant</td>\n",
              "      <td>field</td>\n",
              "      <td>normal</td>\n",
              "      <td>0</td>\n",
              "      <td>Rising Pune Supergiant</td>\n",
              "      <td>0</td>\n",
              "      <td>6</td>\n",
              "      <td>MS Dhoni</td>\n",
              "      <td>Maharashtra Cricket Association Stadium</td>\n",
              "      <td>AY Dandekar</td>\n",
              "      <td>A Deshmukh</td>\n",
              "      <td>NaN</td>\n",
              "    </tr>\n",
              "    <tr>\n",
              "      <th>31</th>\n",
              "      <td>32</td>\n",
              "      <td>IPL-2017</td>\n",
              "      <td>Chandigarh</td>\n",
              "      <td>28-04-2017</td>\n",
              "      <td>Sunrisers Hyderabad</td>\n",
              "      <td>Kings XI Punjab</td>\n",
              "      <td>Kings XI Punjab</td>\n",
              "      <td>field</td>\n",
              "      <td>normal</td>\n",
              "      <td>0</td>\n",
              "      <td>Sunrisers Hyderabad</td>\n",
              "      <td>26</td>\n",
              "      <td>0</td>\n",
              "      <td>Rashid Khan</td>\n",
              "      <td>Punjab Cricket Association IS Bindra Stadium, ...</td>\n",
              "      <td>Nitin Menon</td>\n",
              "      <td>CK Nandan</td>\n",
              "      <td>NaN</td>\n",
              "    </tr>\n",
              "    <tr>\n",
              "      <th>35</th>\n",
              "      <td>36</td>\n",
              "      <td>IPL-2017</td>\n",
              "      <td>Hyderabad</td>\n",
              "      <td>30-04-2017</td>\n",
              "      <td>Sunrisers Hyderabad</td>\n",
              "      <td>Kolkata Knight Riders</td>\n",
              "      <td>Kolkata Knight Riders</td>\n",
              "      <td>field</td>\n",
              "      <td>normal</td>\n",
              "      <td>0</td>\n",
              "      <td>Sunrisers Hyderabad</td>\n",
              "      <td>48</td>\n",
              "      <td>0</td>\n",
              "      <td>DA Warner</td>\n",
              "      <td>Rajiv Gandhi International Stadium, Uppal</td>\n",
              "      <td>AY Dandekar</td>\n",
              "      <td>S Ravi</td>\n",
              "      <td>NaN</td>\n",
              "    </tr>\n",
              "    <tr>\n",
              "      <th>38</th>\n",
              "      <td>39</td>\n",
              "      <td>IPL-2017</td>\n",
              "      <td>Delhi</td>\n",
              "      <td>02-05-2017</td>\n",
              "      <td>Sunrisers Hyderabad</td>\n",
              "      <td>Delhi Daredevils</td>\n",
              "      <td>Delhi Daredevils</td>\n",
              "      <td>field</td>\n",
              "      <td>normal</td>\n",
              "      <td>0</td>\n",
              "      <td>Delhi Daredevils</td>\n",
              "      <td>0</td>\n",
              "      <td>6</td>\n",
              "      <td>Mohammed Shami</td>\n",
              "      <td>Feroz Shah Kotla</td>\n",
              "      <td>YC Barde</td>\n",
              "      <td>Nitin Menon</td>\n",
              "      <td>NaN</td>\n",
              "    </tr>\n",
              "    <tr>\n",
              "      <th>56</th>\n",
              "      <td>57</td>\n",
              "      <td>IPL-2017</td>\n",
              "      <td>Bangalore</td>\n",
              "      <td>17-05-2017</td>\n",
              "      <td>Sunrisers Hyderabad</td>\n",
              "      <td>Kolkata Knight Riders</td>\n",
              "      <td>Kolkata Knight Riders</td>\n",
              "      <td>field</td>\n",
              "      <td>normal</td>\n",
              "      <td>1</td>\n",
              "      <td>Kolkata Knight Riders</td>\n",
              "      <td>0</td>\n",
              "      <td>7</td>\n",
              "      <td>NM Coulter-Nile</td>\n",
              "      <td>M Chinnaswamy Stadium</td>\n",
              "      <td>AK Chaudhary</td>\n",
              "      <td>Nitin Menon</td>\n",
              "      <td>NaN</td>\n",
              "    </tr>\n",
              "  </tbody>\n",
              "</table>\n",
              "</div>"
            ],
            "text/plain": [
              "    id    Season        city  ...       umpire1      umpire2 umpire3\n",
              "0    1  IPL-2017   Hyderabad  ...   AY Dandekar     NJ Llong     NaN\n",
              "9   10  IPL-2017      Mumbai  ...   Nitin Menon    CK Nandan     NaN\n",
              "18  19  IPL-2017   Hyderabad  ...   AY Dandekar   A Deshmukh     NaN\n",
              "20  21  IPL-2017   Hyderabad  ...   CB Gaffaney     NJ Llong     NaN\n",
              "24  25  IPL-2017        Pune  ...   AY Dandekar   A Deshmukh     NaN\n",
              "31  32  IPL-2017  Chandigarh  ...   Nitin Menon    CK Nandan     NaN\n",
              "35  36  IPL-2017   Hyderabad  ...   AY Dandekar       S Ravi     NaN\n",
              "38  39  IPL-2017       Delhi  ...      YC Barde  Nitin Menon     NaN\n",
              "56  57  IPL-2017   Bangalore  ...  AK Chaudhary  Nitin Menon     NaN\n",
              "\n",
              "[9 rows x 18 columns]"
            ]
          },
          "metadata": {
            "tags": []
          },
          "execution_count": 12
        }
      ]
    },
    {
      "cell_type": "code",
      "metadata": {
        "colab": {
          "base_uri": "https://localhost:8080/",
          "height": 483
        },
        "id": "WQ-Q2CbyaXgx",
        "outputId": "9a4c57ee-0a70-42d5-9d52-369fed8cf5b8"
      },
      "source": [
        "\n",
        "teamwise_home_and_away"
      ],
      "execution_count": null,
      "outputs": [
        {
          "output_type": "execute_result",
          "data": {
            "text/html": [
              "<div>\n",
              "<style scoped>\n",
              "    .dataframe tbody tr th:only-of-type {\n",
              "        vertical-align: middle;\n",
              "    }\n",
              "\n",
              "    .dataframe tbody tr th {\n",
              "        vertical-align: top;\n",
              "    }\n",
              "\n",
              "    .dataframe thead th {\n",
              "        text-align: right;\n",
              "    }\n",
              "</style>\n",
              "<table border=\"1\" class=\"dataframe\">\n",
              "  <thead>\n",
              "    <tr style=\"text-align: right;\">\n",
              "      <th></th>\n",
              "      <th>team</th>\n",
              "      <th>home_wins</th>\n",
              "      <th>away_wins</th>\n",
              "      <th>home_matches</th>\n",
              "      <th>away_matches</th>\n",
              "      <th>home_win_percentage</th>\n",
              "      <th>away_win_percentage</th>\n",
              "    </tr>\n",
              "  </thead>\n",
              "  <tbody>\n",
              "    <tr>\n",
              "      <th>0</th>\n",
              "      <td>Rising Pune Supergiant</td>\n",
              "      <td>5</td>\n",
              "      <td>5</td>\n",
              "      <td>8</td>\n",
              "      <td>8</td>\n",
              "      <td>62.500000</td>\n",
              "      <td>62.500000</td>\n",
              "    </tr>\n",
              "    <tr>\n",
              "      <th>1</th>\n",
              "      <td>Mumbai Indians</td>\n",
              "      <td>58</td>\n",
              "      <td>51</td>\n",
              "      <td>101</td>\n",
              "      <td>86</td>\n",
              "      <td>57.425743</td>\n",
              "      <td>59.302326</td>\n",
              "    </tr>\n",
              "    <tr>\n",
              "      <th>2</th>\n",
              "      <td>Chennai Super Kings</td>\n",
              "      <td>51</td>\n",
              "      <td>49</td>\n",
              "      <td>89</td>\n",
              "      <td>75</td>\n",
              "      <td>57.303371</td>\n",
              "      <td>65.333333</td>\n",
              "    </tr>\n",
              "    <tr>\n",
              "      <th>3</th>\n",
              "      <td>Delhi Capitals</td>\n",
              "      <td>3</td>\n",
              "      <td>7</td>\n",
              "      <td>6</td>\n",
              "      <td>10</td>\n",
              "      <td>50.000000</td>\n",
              "      <td>70.000000</td>\n",
              "    </tr>\n",
              "    <tr>\n",
              "      <th>4</th>\n",
              "      <td>Sunrisers Hyderabad</td>\n",
              "      <td>30</td>\n",
              "      <td>28</td>\n",
              "      <td>63</td>\n",
              "      <td>45</td>\n",
              "      <td>47.619048</td>\n",
              "      <td>62.222222</td>\n",
              "    </tr>\n",
              "    <tr>\n",
              "      <th>5</th>\n",
              "      <td>Rajasthan Royals</td>\n",
              "      <td>29</td>\n",
              "      <td>46</td>\n",
              "      <td>67</td>\n",
              "      <td>80</td>\n",
              "      <td>43.283582</td>\n",
              "      <td>57.500000</td>\n",
              "    </tr>\n",
              "    <tr>\n",
              "      <th>6</th>\n",
              "      <td>Deccan Chargers</td>\n",
              "      <td>18</td>\n",
              "      <td>11</td>\n",
              "      <td>43</td>\n",
              "      <td>32</td>\n",
              "      <td>41.860465</td>\n",
              "      <td>34.375000</td>\n",
              "    </tr>\n",
              "    <tr>\n",
              "      <th>7</th>\n",
              "      <td>Kings XI Punjab</td>\n",
              "      <td>38</td>\n",
              "      <td>44</td>\n",
              "      <td>91</td>\n",
              "      <td>85</td>\n",
              "      <td>41.758242</td>\n",
              "      <td>51.764706</td>\n",
              "    </tr>\n",
              "    <tr>\n",
              "      <th>8</th>\n",
              "      <td>Royal Challengers Bangalore</td>\n",
              "      <td>35</td>\n",
              "      <td>49</td>\n",
              "      <td>85</td>\n",
              "      <td>95</td>\n",
              "      <td>41.176471</td>\n",
              "      <td>51.578947</td>\n",
              "    </tr>\n",
              "    <tr>\n",
              "      <th>9</th>\n",
              "      <td>Kolkata Knight Riders</td>\n",
              "      <td>34</td>\n",
              "      <td>58</td>\n",
              "      <td>83</td>\n",
              "      <td>95</td>\n",
              "      <td>40.963855</td>\n",
              "      <td>61.052632</td>\n",
              "    </tr>\n",
              "    <tr>\n",
              "      <th>10</th>\n",
              "      <td>Delhi Daredevils</td>\n",
              "      <td>25</td>\n",
              "      <td>42</td>\n",
              "      <td>72</td>\n",
              "      <td>89</td>\n",
              "      <td>34.722222</td>\n",
              "      <td>47.191011</td>\n",
              "    </tr>\n",
              "    <tr>\n",
              "      <th>11</th>\n",
              "      <td>Pune Warriors</td>\n",
              "      <td>6</td>\n",
              "      <td>6</td>\n",
              "      <td>20</td>\n",
              "      <td>26</td>\n",
              "      <td>30.000000</td>\n",
              "      <td>23.076923</td>\n",
              "    </tr>\n",
              "    <tr>\n",
              "      <th>12</th>\n",
              "      <td>Kochi Tuskers Kerala</td>\n",
              "      <td>2</td>\n",
              "      <td>4</td>\n",
              "      <td>7</td>\n",
              "      <td>7</td>\n",
              "      <td>28.571429</td>\n",
              "      <td>57.142857</td>\n",
              "    </tr>\n",
              "    <tr>\n",
              "      <th>13</th>\n",
              "      <td>Gujarat Lions</td>\n",
              "      <td>1</td>\n",
              "      <td>12</td>\n",
              "      <td>14</td>\n",
              "      <td>16</td>\n",
              "      <td>7.142857</td>\n",
              "      <td>75.000000</td>\n",
              "    </tr>\n",
              "  </tbody>\n",
              "</table>\n",
              "</div>"
            ],
            "text/plain": [
              "                           team  ...  away_win_percentage\n",
              "0        Rising Pune Supergiant  ...            62.500000\n",
              "1                Mumbai Indians  ...            59.302326\n",
              "2           Chennai Super Kings  ...            65.333333\n",
              "3                Delhi Capitals  ...            70.000000\n",
              "4           Sunrisers Hyderabad  ...            62.222222\n",
              "5              Rajasthan Royals  ...            57.500000\n",
              "6               Deccan Chargers  ...            34.375000\n",
              "7               Kings XI Punjab  ...            51.764706\n",
              "8   Royal Challengers Bangalore  ...            51.578947\n",
              "9         Kolkata Knight Riders  ...            61.052632\n",
              "10             Delhi Daredevils  ...            47.191011\n",
              "11                Pune Warriors  ...            23.076923\n",
              "12         Kochi Tuskers Kerala  ...            57.142857\n",
              "13                Gujarat Lions  ...            75.000000\n",
              "\n",
              "[14 rows x 7 columns]"
            ]
          },
          "metadata": {
            "tags": []
          },
          "execution_count": 13
        }
      ]
    },
    {
      "cell_type": "code",
      "metadata": {
        "colab": {
          "base_uri": "https://localhost:8080/",
          "height": 419
        },
        "id": "6n7FvShbaxH8",
        "outputId": "f4841482-c1ea-447d-df5f-8a8e6e6f69e3"
      },
      "source": [
        "mostrun_average_strikerate"
      ],
      "execution_count": null,
      "outputs": [
        {
          "output_type": "execute_result",
          "data": {
            "text/html": [
              "<div>\n",
              "<style scoped>\n",
              "    .dataframe tbody tr th:only-of-type {\n",
              "        vertical-align: middle;\n",
              "    }\n",
              "\n",
              "    .dataframe tbody tr th {\n",
              "        vertical-align: top;\n",
              "    }\n",
              "\n",
              "    .dataframe thead th {\n",
              "        text-align: right;\n",
              "    }\n",
              "</style>\n",
              "<table border=\"1\" class=\"dataframe\">\n",
              "  <thead>\n",
              "    <tr style=\"text-align: right;\">\n",
              "      <th></th>\n",
              "      <th>batsman</th>\n",
              "      <th>total_runs</th>\n",
              "      <th>out</th>\n",
              "      <th>numberofballs</th>\n",
              "      <th>average</th>\n",
              "      <th>strikerate</th>\n",
              "    </tr>\n",
              "  </thead>\n",
              "  <tbody>\n",
              "    <tr>\n",
              "      <th>0</th>\n",
              "      <td>V Kohli</td>\n",
              "      <td>5426</td>\n",
              "      <td>152</td>\n",
              "      <td>4111</td>\n",
              "      <td>35.697368</td>\n",
              "      <td>131.987351</td>\n",
              "    </tr>\n",
              "    <tr>\n",
              "      <th>1</th>\n",
              "      <td>SK Raina</td>\n",
              "      <td>5386</td>\n",
              "      <td>160</td>\n",
              "      <td>3916</td>\n",
              "      <td>33.662500</td>\n",
              "      <td>137.538304</td>\n",
              "    </tr>\n",
              "    <tr>\n",
              "      <th>2</th>\n",
              "      <td>RG Sharma</td>\n",
              "      <td>4902</td>\n",
              "      <td>161</td>\n",
              "      <td>3742</td>\n",
              "      <td>30.447205</td>\n",
              "      <td>130.999466</td>\n",
              "    </tr>\n",
              "    <tr>\n",
              "      <th>3</th>\n",
              "      <td>DA Warner</td>\n",
              "      <td>4717</td>\n",
              "      <td>114</td>\n",
              "      <td>3292</td>\n",
              "      <td>41.377193</td>\n",
              "      <td>143.286756</td>\n",
              "    </tr>\n",
              "    <tr>\n",
              "      <th>4</th>\n",
              "      <td>S Dhawan</td>\n",
              "      <td>4601</td>\n",
              "      <td>137</td>\n",
              "      <td>3665</td>\n",
              "      <td>33.583942</td>\n",
              "      <td>125.538881</td>\n",
              "    </tr>\n",
              "    <tr>\n",
              "      <th>...</th>\n",
              "      <td>...</td>\n",
              "      <td>...</td>\n",
              "      <td>...</td>\n",
              "      <td>...</td>\n",
              "      <td>...</td>\n",
              "      <td>...</td>\n",
              "    </tr>\n",
              "    <tr>\n",
              "      <th>511</th>\n",
              "      <td>ND Doshi</td>\n",
              "      <td>0</td>\n",
              "      <td>1</td>\n",
              "      <td>13</td>\n",
              "      <td>0.000000</td>\n",
              "      <td>0.000000</td>\n",
              "    </tr>\n",
              "    <tr>\n",
              "      <th>512</th>\n",
              "      <td>J Denly</td>\n",
              "      <td>0</td>\n",
              "      <td>1</td>\n",
              "      <td>1</td>\n",
              "      <td>0.000000</td>\n",
              "      <td>0.000000</td>\n",
              "    </tr>\n",
              "    <tr>\n",
              "      <th>513</th>\n",
              "      <td>S Ladda</td>\n",
              "      <td>0</td>\n",
              "      <td>2</td>\n",
              "      <td>9</td>\n",
              "      <td>0.000000</td>\n",
              "      <td>0.000000</td>\n",
              "    </tr>\n",
              "    <tr>\n",
              "      <th>514</th>\n",
              "      <td>V Pratap Singh</td>\n",
              "      <td>0</td>\n",
              "      <td>1</td>\n",
              "      <td>1</td>\n",
              "      <td>0.000000</td>\n",
              "      <td>0.000000</td>\n",
              "    </tr>\n",
              "    <tr>\n",
              "      <th>515</th>\n",
              "      <td>S Kaushik</td>\n",
              "      <td>0</td>\n",
              "      <td>1</td>\n",
              "      <td>1</td>\n",
              "      <td>0.000000</td>\n",
              "      <td>0.000000</td>\n",
              "    </tr>\n",
              "  </tbody>\n",
              "</table>\n",
              "<p>516 rows × 6 columns</p>\n",
              "</div>"
            ],
            "text/plain": [
              "            batsman  total_runs  out  numberofballs    average  strikerate\n",
              "0           V Kohli        5426  152           4111  35.697368  131.987351\n",
              "1          SK Raina        5386  160           3916  33.662500  137.538304\n",
              "2         RG Sharma        4902  161           3742  30.447205  130.999466\n",
              "3         DA Warner        4717  114           3292  41.377193  143.286756\n",
              "4          S Dhawan        4601  137           3665  33.583942  125.538881\n",
              "..              ...         ...  ...            ...        ...         ...\n",
              "511        ND Doshi           0    1             13   0.000000    0.000000\n",
              "512         J Denly           0    1              1   0.000000    0.000000\n",
              "513         S Ladda           0    2              9   0.000000    0.000000\n",
              "514  V Pratap Singh           0    1              1   0.000000    0.000000\n",
              "515       S Kaushik           0    1              1   0.000000    0.000000\n",
              "\n",
              "[516 rows x 6 columns]"
            ]
          },
          "metadata": {
            "tags": []
          },
          "execution_count": 14
        }
      ]
    },
    {
      "cell_type": "code",
      "metadata": {
        "colab": {
          "base_uri": "https://localhost:8080/",
          "height": 419
        },
        "id": "4UlFKX5Ba4LN",
        "outputId": "bebebb6f-e8c8-4170-fcb2-9778c75f9d1e"
      },
      "source": [
        "players"
      ],
      "execution_count": null,
      "outputs": [
        {
          "output_type": "execute_result",
          "data": {
            "text/html": [
              "<div>\n",
              "<style scoped>\n",
              "    .dataframe tbody tr th:only-of-type {\n",
              "        vertical-align: middle;\n",
              "    }\n",
              "\n",
              "    .dataframe tbody tr th {\n",
              "        vertical-align: top;\n",
              "    }\n",
              "\n",
              "    .dataframe thead th {\n",
              "        text-align: right;\n",
              "    }\n",
              "</style>\n",
              "<table border=\"1\" class=\"dataframe\">\n",
              "  <thead>\n",
              "    <tr style=\"text-align: right;\">\n",
              "      <th></th>\n",
              "      <th>Player_Name</th>\n",
              "      <th>DOB</th>\n",
              "      <th>Batting_Hand</th>\n",
              "      <th>Bowling_Skill</th>\n",
              "      <th>Country</th>\n",
              "    </tr>\n",
              "  </thead>\n",
              "  <tbody>\n",
              "    <tr>\n",
              "      <th>0</th>\n",
              "      <td>A Ashish Reddy</td>\n",
              "      <td>1991-02-24</td>\n",
              "      <td>Right_Hand</td>\n",
              "      <td>Right-arm medium</td>\n",
              "      <td>India</td>\n",
              "    </tr>\n",
              "    <tr>\n",
              "      <th>1</th>\n",
              "      <td>A Chandila</td>\n",
              "      <td>1983-12-05</td>\n",
              "      <td>Right_Hand</td>\n",
              "      <td>Right-arm offbreak</td>\n",
              "      <td>India</td>\n",
              "    </tr>\n",
              "    <tr>\n",
              "      <th>2</th>\n",
              "      <td>A Chopra</td>\n",
              "      <td>1977-09-19</td>\n",
              "      <td>Right_Hand</td>\n",
              "      <td>Right-arm offbreak</td>\n",
              "      <td>India</td>\n",
              "    </tr>\n",
              "    <tr>\n",
              "      <th>3</th>\n",
              "      <td>A Choudhary</td>\n",
              "      <td>NaT</td>\n",
              "      <td>Right_hand</td>\n",
              "      <td>Left-arm fast-medium</td>\n",
              "      <td>NaN</td>\n",
              "    </tr>\n",
              "    <tr>\n",
              "      <th>4</th>\n",
              "      <td>A Dananjaya</td>\n",
              "      <td>NaT</td>\n",
              "      <td>Right_Hand</td>\n",
              "      <td>Right-arm offbreak</td>\n",
              "      <td>NaN</td>\n",
              "    </tr>\n",
              "    <tr>\n",
              "      <th>...</th>\n",
              "      <td>...</td>\n",
              "      <td>...</td>\n",
              "      <td>...</td>\n",
              "      <td>...</td>\n",
              "      <td>...</td>\n",
              "    </tr>\n",
              "    <tr>\n",
              "      <th>561</th>\n",
              "      <td>Younis Khan</td>\n",
              "      <td>1977-11-29</td>\n",
              "      <td>Right_Hand</td>\n",
              "      <td>Right-arm medium</td>\n",
              "      <td>Pakistan</td>\n",
              "    </tr>\n",
              "    <tr>\n",
              "      <th>562</th>\n",
              "      <td>YS Chahal</td>\n",
              "      <td>1990-07-23</td>\n",
              "      <td>Right_Hand</td>\n",
              "      <td>Legbreak googly</td>\n",
              "      <td>India</td>\n",
              "    </tr>\n",
              "    <tr>\n",
              "      <th>563</th>\n",
              "      <td>Yuvraj Singh</td>\n",
              "      <td>1981-12-12</td>\n",
              "      <td>Left_Hand</td>\n",
              "      <td>Slow left-arm orthodox</td>\n",
              "      <td>India</td>\n",
              "    </tr>\n",
              "    <tr>\n",
              "      <th>564</th>\n",
              "      <td>YV Takawale</td>\n",
              "      <td>1984-11-05</td>\n",
              "      <td>Right_Hand</td>\n",
              "      <td>NaN</td>\n",
              "      <td>India</td>\n",
              "    </tr>\n",
              "    <tr>\n",
              "      <th>565</th>\n",
              "      <td>Z Khan</td>\n",
              "      <td>1978-10-07</td>\n",
              "      <td>Right_Hand</td>\n",
              "      <td>Left-arm fast-medium</td>\n",
              "      <td>India</td>\n",
              "    </tr>\n",
              "  </tbody>\n",
              "</table>\n",
              "<p>566 rows × 5 columns</p>\n",
              "</div>"
            ],
            "text/plain": [
              "        Player_Name        DOB Batting_Hand           Bowling_Skill   Country\n",
              "0    A Ashish Reddy 1991-02-24   Right_Hand        Right-arm medium     India\n",
              "1        A Chandila 1983-12-05   Right_Hand      Right-arm offbreak     India\n",
              "2          A Chopra 1977-09-19   Right_Hand      Right-arm offbreak     India\n",
              "3       A Choudhary        NaT   Right_hand    Left-arm fast-medium       NaN\n",
              "4       A Dananjaya        NaT   Right_Hand      Right-arm offbreak       NaN\n",
              "..              ...        ...          ...                     ...       ...\n",
              "561     Younis Khan 1977-11-29   Right_Hand        Right-arm medium  Pakistan\n",
              "562       YS Chahal 1990-07-23   Right_Hand         Legbreak googly     India\n",
              "563    Yuvraj Singh 1981-12-12    Left_Hand  Slow left-arm orthodox     India\n",
              "564     YV Takawale 1984-11-05   Right_Hand                     NaN     India\n",
              "565          Z Khan 1978-10-07   Right_Hand    Left-arm fast-medium     India\n",
              "\n",
              "[566 rows x 5 columns]"
            ]
          },
          "metadata": {
            "tags": []
          },
          "execution_count": 15
        }
      ]
    },
    {
      "cell_type": "code",
      "metadata": {
        "id": "N7XNlh4mbDdu",
        "colab": {
          "base_uri": "https://localhost:8080/",
          "height": 445
        },
        "outputId": "723d7291-e98e-46ae-b7c3-077dc1e5eb36"
      },
      "source": [
        "matches_csv.head()"
      ],
      "execution_count": null,
      "outputs": [
        {
          "output_type": "execute_result",
          "data": {
            "text/html": [
              "<div>\n",
              "<style scoped>\n",
              "    .dataframe tbody tr th:only-of-type {\n",
              "        vertical-align: middle;\n",
              "    }\n",
              "\n",
              "    .dataframe tbody tr th {\n",
              "        vertical-align: top;\n",
              "    }\n",
              "\n",
              "    .dataframe thead th {\n",
              "        text-align: right;\n",
              "    }\n",
              "</style>\n",
              "<table border=\"1\" class=\"dataframe\">\n",
              "  <thead>\n",
              "    <tr style=\"text-align: right;\">\n",
              "      <th></th>\n",
              "      <th>id</th>\n",
              "      <th>Season</th>\n",
              "      <th>city</th>\n",
              "      <th>date</th>\n",
              "      <th>team1</th>\n",
              "      <th>team2</th>\n",
              "      <th>toss_winner</th>\n",
              "      <th>toss_decision</th>\n",
              "      <th>result</th>\n",
              "      <th>dl_applied</th>\n",
              "      <th>winner</th>\n",
              "      <th>win_by_runs</th>\n",
              "      <th>win_by_wickets</th>\n",
              "      <th>player_of_match</th>\n",
              "      <th>venue</th>\n",
              "      <th>umpire1</th>\n",
              "      <th>umpire2</th>\n",
              "      <th>umpire3</th>\n",
              "    </tr>\n",
              "  </thead>\n",
              "  <tbody>\n",
              "    <tr>\n",
              "      <th>0</th>\n",
              "      <td>1</td>\n",
              "      <td>IPL-2017</td>\n",
              "      <td>Hyderabad</td>\n",
              "      <td>05-04-2017</td>\n",
              "      <td>Sunrisers Hyderabad</td>\n",
              "      <td>Royal Challengers Bangalore</td>\n",
              "      <td>Royal Challengers Bangalore</td>\n",
              "      <td>field</td>\n",
              "      <td>normal</td>\n",
              "      <td>0</td>\n",
              "      <td>Sunrisers Hyderabad</td>\n",
              "      <td>35</td>\n",
              "      <td>0</td>\n",
              "      <td>Yuvraj Singh</td>\n",
              "      <td>Rajiv Gandhi International Stadium, Uppal</td>\n",
              "      <td>AY Dandekar</td>\n",
              "      <td>NJ Llong</td>\n",
              "      <td>NaN</td>\n",
              "    </tr>\n",
              "    <tr>\n",
              "      <th>1</th>\n",
              "      <td>2</td>\n",
              "      <td>IPL-2017</td>\n",
              "      <td>Pune</td>\n",
              "      <td>06-04-2017</td>\n",
              "      <td>Mumbai Indians</td>\n",
              "      <td>Rising Pune Supergiant</td>\n",
              "      <td>Rising Pune Supergiant</td>\n",
              "      <td>field</td>\n",
              "      <td>normal</td>\n",
              "      <td>0</td>\n",
              "      <td>Rising Pune Supergiant</td>\n",
              "      <td>0</td>\n",
              "      <td>7</td>\n",
              "      <td>SPD Smith</td>\n",
              "      <td>Maharashtra Cricket Association Stadium</td>\n",
              "      <td>A Nand Kishore</td>\n",
              "      <td>S Ravi</td>\n",
              "      <td>NaN</td>\n",
              "    </tr>\n",
              "    <tr>\n",
              "      <th>2</th>\n",
              "      <td>3</td>\n",
              "      <td>IPL-2017</td>\n",
              "      <td>Rajkot</td>\n",
              "      <td>07-04-2017</td>\n",
              "      <td>Gujarat Lions</td>\n",
              "      <td>Kolkata Knight Riders</td>\n",
              "      <td>Kolkata Knight Riders</td>\n",
              "      <td>field</td>\n",
              "      <td>normal</td>\n",
              "      <td>0</td>\n",
              "      <td>Kolkata Knight Riders</td>\n",
              "      <td>0</td>\n",
              "      <td>10</td>\n",
              "      <td>CA Lynn</td>\n",
              "      <td>Saurashtra Cricket Association Stadium</td>\n",
              "      <td>Nitin Menon</td>\n",
              "      <td>CK Nandan</td>\n",
              "      <td>NaN</td>\n",
              "    </tr>\n",
              "    <tr>\n",
              "      <th>3</th>\n",
              "      <td>4</td>\n",
              "      <td>IPL-2017</td>\n",
              "      <td>Indore</td>\n",
              "      <td>08-04-2017</td>\n",
              "      <td>Rising Pune Supergiant</td>\n",
              "      <td>Kings XI Punjab</td>\n",
              "      <td>Kings XI Punjab</td>\n",
              "      <td>field</td>\n",
              "      <td>normal</td>\n",
              "      <td>0</td>\n",
              "      <td>Kings XI Punjab</td>\n",
              "      <td>0</td>\n",
              "      <td>6</td>\n",
              "      <td>GJ Maxwell</td>\n",
              "      <td>Holkar Cricket Stadium</td>\n",
              "      <td>AK Chaudhary</td>\n",
              "      <td>C Shamshuddin</td>\n",
              "      <td>NaN</td>\n",
              "    </tr>\n",
              "    <tr>\n",
              "      <th>4</th>\n",
              "      <td>5</td>\n",
              "      <td>IPL-2017</td>\n",
              "      <td>Bangalore</td>\n",
              "      <td>08-04-2017</td>\n",
              "      <td>Royal Challengers Bangalore</td>\n",
              "      <td>Delhi Daredevils</td>\n",
              "      <td>Royal Challengers Bangalore</td>\n",
              "      <td>bat</td>\n",
              "      <td>normal</td>\n",
              "      <td>0</td>\n",
              "      <td>Royal Challengers Bangalore</td>\n",
              "      <td>15</td>\n",
              "      <td>0</td>\n",
              "      <td>KM Jadhav</td>\n",
              "      <td>M Chinnaswamy Stadium</td>\n",
              "      <td>NaN</td>\n",
              "      <td>NaN</td>\n",
              "      <td>NaN</td>\n",
              "    </tr>\n",
              "  </tbody>\n",
              "</table>\n",
              "</div>"
            ],
            "text/plain": [
              "   id    Season       city  ...         umpire1        umpire2 umpire3\n",
              "0   1  IPL-2017  Hyderabad  ...     AY Dandekar       NJ Llong     NaN\n",
              "1   2  IPL-2017       Pune  ...  A Nand Kishore         S Ravi     NaN\n",
              "2   3  IPL-2017     Rajkot  ...     Nitin Menon      CK Nandan     NaN\n",
              "3   4  IPL-2017     Indore  ...    AK Chaudhary  C Shamshuddin     NaN\n",
              "4   5  IPL-2017  Bangalore  ...             NaN            NaN     NaN\n",
              "\n",
              "[5 rows x 18 columns]"
            ]
          },
          "metadata": {
            "tags": []
          },
          "execution_count": 16
        }
      ]
    },
    {
      "cell_type": "code",
      "metadata": {
        "colab": {
          "base_uri": "https://localhost:8080/",
          "height": 1000
        },
        "id": "c5l_XbzJNGX1",
        "outputId": "4aeda132-99a7-45c5-cc48-aa67cf80cbc9"
      },
      "source": [
        "\n",
        "# merged delievery and matches for getting particular season \n",
        "def most_runs_scored(x):\n",
        "  merging_delievery_matches=pd.merge(delievery_csv,matches_csv,how=\"inner\", left_on=[\"match_id\"],right_on=[\"id\"])\n",
        "  #filtering specific for the particular season and evaluation total runs scored by each batsman\n",
        "  merge_particular_season=merging_delievery_matches[merging_delievery_matches[\"Season\"]==x]\n",
        "  return(merge_particular_season.groupby(\"batsman\")[\"batsman_runs\"].sum().sort_values(ascending=False))[:5]\n",
        "\n",
        "l=[\"IPL-2008\",\"IPL-2009\",\"IPL-2010\",\"IPL-2011\",\"IPL-2012\",\"IPL-2013\",\"IPL-2014\",\"IPL-2015\",\"IPL-2016\",\"IPL-2017\",\"IPL-2018\",\"IPL-2019\"]\n",
        "for i in l:\n",
        "  print(f'The most runs scorer in {i} are : {most_runs_scored(i)}')\n",
        "  import matplotlib.pyplot as plt\n",
        "  from matplotlib.ticker import StrMethodFormatter\n",
        "  pd.DataFrame(most_runs_scored(i)).plot(kind=\"barh\")\n",
        "\n",
        "#('Mumbai Indians', 'Kochi Tuskers Kerala', 'Gujarat Lions', 'Delhi Daredevils', 'Kings XI Punjab', 'Chennai Super Kings', 'Rajasthan Royals', 'Sunrisers Hyderabad', 'Rising Pune Supergiants', 'Kolkata Knight Riders', 'Delhi Capitals', 'Pune Warriors', 'Deccan Chargers', 'Rising Pune Supergiant', 'Royal Challengers Bangalore')"
      ],
      "execution_count": null,
      "outputs": [
        {
          "output_type": "stream",
          "text": [
            "The most runs scorer in IPL-2008 are : batsman\n",
            "SE Marsh         616\n",
            "G Gambhir        534\n",
            "ST Jayasuriya    514\n",
            "SR Watson        472\n",
            "GC Smith         441\n",
            "Name: batsman_runs, dtype: int64\n",
            "The most runs scorer in IPL-2009 are : batsman\n",
            "ML Hayden         572\n",
            "AC Gilchrist      495\n",
            "AB de Villiers    465\n",
            "SK Raina          434\n",
            "TM Dilshan        418\n",
            "Name: batsman_runs, dtype: int64\n",
            "The most runs scorer in IPL-2010 are : batsman\n",
            "SR Tendulkar    618\n",
            "JH Kallis       572\n",
            "SK Raina        528\n",
            "SC Ganguly      493\n",
            "M Vijay         458\n",
            "Name: batsman_runs, dtype: int64\n",
            "The most runs scorer in IPL-2011 are : batsman\n",
            "CH Gayle        608\n",
            "V Kohli         557\n",
            "SR Tendulkar    553\n",
            "SE Marsh        504\n",
            "MEK Hussey      492\n",
            "Name: batsman_runs, dtype: int64\n",
            "The most runs scorer in IPL-2012 are : batsman\n",
            "CH Gayle     733\n",
            "G Gambhir    590\n",
            "S Dhawan     569\n",
            "AM Rahane    560\n",
            "V Sehwag     495\n",
            "Name: batsman_runs, dtype: int64\n",
            "The most runs scorer in IPL-2013 are : batsman\n",
            "MEK Hussey    733\n",
            "CH Gayle      720\n",
            "V Kohli       639\n",
            "SK Raina      548\n",
            "SR Watson     543\n",
            "Name: batsman_runs, dtype: int64\n",
            "The most runs scorer in IPL-2014 are : batsman\n",
            "RV Uthappa    660\n",
            "DR Smith      566\n",
            "GJ Maxwell    552\n",
            "DA Warner     528\n",
            "SK Raina      523\n",
            "Name: batsman_runs, dtype: int64\n",
            "The most runs scorer in IPL-2015 are : batsman\n",
            "DA Warner         562\n",
            "LMP Simmons       540\n",
            "AM Rahane         540\n",
            "AB de Villiers    513\n",
            "V Kohli           505\n",
            "Name: batsman_runs, dtype: int64\n",
            "The most runs scorer in IPL-2016 are : batsman\n",
            "V Kohli           973\n",
            "DA Warner         848\n",
            "AB de Villiers    687\n",
            "S Dhawan          501\n",
            "G Gambhir         501\n",
            "Name: batsman_runs, dtype: int64\n",
            "The most runs scorer in IPL-2017 are : batsman\n",
            "DA Warner    641\n",
            "G Gambhir    498\n",
            "S Dhawan     479\n",
            "SPD Smith    472\n",
            "SK Raina     442\n",
            "Name: batsman_runs, dtype: int64\n",
            "The most runs scorer in IPL-2018 are : batsman\n",
            "KS Williamson    747\n",
            "RR Pant          717\n",
            "KL Rahul         678\n",
            "AT Rayudu        615\n",
            "JC Buttler       574\n",
            "Name: batsman_runs, dtype: int64\n",
            "The most runs scorer in IPL-2019 are : batsman\n",
            "DA Warner     727\n",
            "KL Rahul      610\n",
            "Q de Kock     555\n",
            "AD Russell    545\n",
            "S Dhawan      542\n",
            "Name: batsman_runs, dtype: int64\n"
          ],
          "name": "stdout"
        },
        {
          "output_type": "display_data",
          "data": {
            "image/png": "[encoded data removed]",
            "text/plain": [
              "<Figure size 2160x1512 with 1 Axes>"
            ]
          },
          "metadata": {
            "tags": []
          }
        },
        {
          "output_type": "display_data",
          "data": {
            "image/png": "[encoded data removed]",
            "text/plain": [
              "<Figure size 2160x1512 with 1 Axes>"
            ]
          },
          "metadata": {
            "tags": []
          }
        },
        {
          "output_type": "display_data",
          "data": {
            "image/png": "[encoded data removed]",
            "text/plain": [
              "<Figure size 2160x1512 with 1 Axes>"
            ]
          },
          "metadata": {
            "tags": []
          }
        },
        {
          "output_type": "display_data",
          "data": {
            "image/png": "[encoded data removed]",
            "text/plain": [
              "<Figure size 2160x1512 with 1 Axes>"
            ]
          },
          "metadata": {
            "tags": []
          }
        },
        {
          "output_type": "display_data",
          "data": {
            "image/png": "[encoded data removed]",
            "text/plain": [
              "<Figure size 2160x1512 with 1 Axes>"
            ]
          },
          "metadata": {
            "tags": []
          }
        },
        {
          "output_type": "display_data",
          "data": {
            "image/png": "[encoded data removed]",
            "text/plain": [
              "<Figure size 2160x1512 with 1 Axes>"
            ]
          },
          "metadata": {
            "tags": []
          }
        },
        {
          "output_type": "display_data",
          "data": {
            "image/png": "[encoded data removed]",
            "text/plain": [
              "<Figure size 2160x1512 with 1 Axes>"
            ]
          },
          "metadata": {
            "tags": []
          }
        },
        {
          "output_type": "display_data",
          "data": {
            "image/png": "[encoded data removed]",
            "text/plain": [
              "<Figure size 2160x1512 with 1 Axes>"
            ]
          },
          "metadata": {
            "tags": []
          }
        },
        {
          "output_type": "display_data",
          "data": {
            "image/png": "[encoded data removed]",
            "text/plain": [
              "<Figure size 2160x1512 with 1 Axes>"
            ]
          },
          "metadata": {
            "tags": []
          }
        },
        {
          "output_type": "display_data",
          "data": {
            "image/png": "[encoded data removed]",
            "text/plain": [
              "<Figure size 2160x1512 with 1 Axes>"
            ]
          },
          "metadata": {
            "tags": []
          }
        },
        {
          "output_type": "display_data",
          "data": {
            "image/png": "[encoded data removed]",
            "text/plain": [
              "<Figure size 2160x1512 with 1 Axes>"
            ]
          },
          "metadata": {
            "tags": []
          }
        },
        {
          "output_type": "display_data",
          "data": {
            "image/png": "[encoded data removed]",
            "text/plain": [
              "<Figure size 2160x1512 with 1 Axes>"
            ]
          },
          "metadata": {
            "tags": []
          }
        }
      ]
    },
    {
      "cell_type": "code",
      "metadata": {
        "colab": {
          "base_uri": "https://localhost:8080/"
        },
        "id": "AazdbBAeOYZ7",
        "outputId": "5c10464f-b7d2-4be5-d430-6582ae83607b"
      },
      "source": [
        "# Evaluating total winning percentage for the team in particular season\n",
        "# total_number of matches played by sunrises hyderabad in 2017 season\n",
        "total_matches_sunrises=len(matches_csv[((matches_csv[\"team1\"]==\"Sunrisers Hyderabad\") | (matches_csv[\"team2\"]==\"Sunrisers Hyderabad\")) & (matches_csv[\"Season\"]==\"IPL-2017\")])\n",
        "\n",
        "# now matches winned by sunrises hyderabad for evaluating winning percentage\n",
        "\n",
        "total_winned_matches_sunrises=len(matches_csv[(matches_csv[\"Season\"]==\"IPL-2017\") & (matches_csv[\"winner\"]==\"Sunrisers Hyderabad\") ])\n",
        "\n",
        "print((total_winned_matches_sunrises/total_matches_sunrises)*100)\n"
      ],
      "execution_count": null,
      "outputs": [
        {
          "output_type": "stream",
          "text": [
            "57.14285714285714\n"
          ],
          "name": "stdout"
        }
      ]
    },
    {
      "cell_type": "code",
      "metadata": {
        "colab": {
          "base_uri": "https://localhost:8080/"
        },
        "id": "5yF2IOqbRd9p",
        "outputId": "b4fcde0d-df4c-4de5-dc84-80d96bbd950d"
      },
      "source": [
        "def winning_percentage(x,y):\n",
        "  try:\n",
        "    total_matches=len(matches_csv[((matches_csv[\"team1\"]==y) | (matches_csv[\"team2\"]==y)) & (matches_csv[\"Season\"]==x)])\n",
        "    # now matches winned by sunrises hyderabad for evaluating winning percentage\n",
        "\n",
        "    total_winned_matches=len(matches_csv[(matches_csv[\"Season\"]==x) & (matches_csv[\"winner\"]==y) ])\n",
        "\n",
        "    return((total_winned_matches/total_matches)*100)\n",
        "  except:\n",
        "    print(f'{y} is not present in {x} ')\n",
        "\n",
        "     # where x is the season and y is the team in that season\n",
        "winning_percentage(x=\"IPL-2008\",y=\"Rajasthan Royals\")\n",
        "  "
      ],
      "execution_count": null,
      "outputs": [
        {
          "output_type": "execute_result",
          "data": {
            "text/plain": [
              "81.25"
            ]
          },
          "metadata": {
            "tags": []
          },
          "execution_count": 38
        }
      ]
    },
    {
      "cell_type": "code",
      "metadata": {
        "colab": {
          "base_uri": "https://localhost:8080/"
        },
        "id": "fIOOJTm5T6zA",
        "outputId": "d33a58e6-fb47-4008-b27c-77a74eb5e7ea"
      },
      "source": [
        "\n",
        "From itertools import product\n"
      ],
      "execution_count": null,
      "outputs": [
        {
          "output_type": "stream",
          "text": [
            "IOPub data rate exceeded.\n",
            "The notebook server will temporarily stop sending output\n",
            "to the client in order to avoid crashing it.\n",
            "To change this limit, set the config variable\n",
            "`--NotebookApp.iopub_data_rate_limit`.\n",
            "\n",
            "Current values:\n",
            "NotebookApp.iopub_data_rate_limit=1000000.0 (bytes/sec)\n",
            "NotebookApp.rate_limit_window=3.0 (secs)\n",
            "\n"
          ],
          "name": "stderr"
        }
      ]
    },
    {
      "cell_type": "code",
      "metadata": {
        "id": "BdvthjrRny30"
      },
      "source": [
        "l=[\"IPL-2008\",\"IPL-2009\",\"IPL-2010\",\"IPL-2011\",\"IPL-2012\",\"IPL-2013\",\"IPL-2014\",\"IPL-2015\",\"IPL-2016\",\"IPL-2017\",\"IPL-2018\",\"IPL-2019\"]\n"
      ],
      "execution_count": null,
      "outputs": []
    },
    {
      "cell_type": "code",
      "metadata": {
        "id": "MAZYOSnDeUTD"
      },
      "source": [
        "def most_wicketer(x):\n",
        "  merging_delievery_matches=pd.merge(delievery_csv,matches_csv,how=\"inner\", left_on=[\"match_id\"],right_on=[\"id\"])\n",
        "  #filtering specific for the particular season and evaluation total runs scored by each batsman\n",
        "  merge_particular_season=merging_delievery_matches[merging_delievery_matches[\"Season\"]==x]\n",
        "  wickets=merge_particular_season[(merge_particular_season[\"dismissal_kind\"]==\"caught\") | (merge_particular_season[\"dismissal_kind\"]==\"bowled\") | (merge_particular_season[\"dismissal_kind\"]==\"bowled\") | (merge_particular_season[\"dismissal_kind\"]==\"lbw\") | (merge_particular_season[\"dismissal_kind\"]==\"stumped\") | (merge_particular_season[\"dismissal_kind\"]==\"caught and bowled\") | (merge_particular_season[\"dismissal_kind\"]==\"hit wicket\")]\n",
        "  return(wickets.groupby(\"bowler\")[\"bowler\"].count().sort_values(ascending=False)[:5])   \n",
        " "
      ],
      "execution_count": null,
      "outputs": []
    },
    {
      "cell_type": "code",
      "metadata": {
        "colab": {
          "base_uri": "https://localhost:8080/",
          "height": 1000
        },
        "id": "10rwgPGpgIrs",
        "outputId": "8a3b3e51-fcee-438c-eaf0-2d61fc98e599"
      },
      "source": [
        "l=[\"IPL-2008\",\"IPL-2009\",\"IPL-2010\",\"IPL-2011\",\"IPL-2012\",\"IPL-2013\",\"IPL-2014\",\"IPL-2015\",\"IPL-2016\",\"IPL-2017\",\"IPL-2018\",\"IPL-2019\"]\n",
        "for i in l:\n",
        "  import matplotlib.pyplot as plt\n",
        "  from matplotlib.ticker import StrMethodFormatter\n",
        "  \n",
        "  print(f'The most wicket taking  bowlers {i} are : {most_wicketer(i)}')\n",
        "  pd.DataFrame(most_wicketer(i)).plot(kind=\"barh\")\n",
        "\n",
        "  \n",
        "  "
      ],
      "execution_count": null,
      "outputs": [
        {
          "output_type": "stream",
          "text": [
            "The most wicket taking  bowlers IPL-2008 are : bowler\n",
            "Sohail Tanvir    22\n",
            "S Sreesanth      19\n",
            "SK Warne         19\n",
            "SR Watson        17\n",
            "JA Morkel        17\n",
            "Name: bowler, dtype: int64\n",
            "The most wicket taking  bowlers IPL-2009 are : bowler\n",
            "RP Singh      23\n",
            "A Kumble      21\n",
            "A Nehra       19\n",
            "SL Malinga    18\n",
            "PP Ojha       18\n",
            "Name: bowler, dtype: int64\n",
            "The most wicket taking  bowlers IPL-2010 are : bowler\n",
            "PP Ojha            21\n",
            "A Kumble           17\n",
            "A Mishra           17\n",
            "Harbhajan Singh    17\n",
            "M Muralitharan     16\n",
            "Name: bowler, dtype: int64\n",
            "The most wicket taking  bowlers IPL-2011 are : bowler\n",
            "SL Malinga    28\n",
            "MM Patel      22\n",
            "S Aravind     21\n",
            "R Ashwin      20\n",
            "A Mishra      19\n",
            "Name: bowler, dtype: int64\n",
            "The most wicket taking  bowlers IPL-2012 are : bowler\n",
            "M Morkel         25\n",
            "SP Narine        24\n",
            "SL Malinga       22\n",
            "UT Yadav         19\n",
            "R Vinay Kumar    19\n",
            "Name: bowler, dtype: int64\n",
            "The most wicket taking  bowlers IPL-2013 are : bowler\n",
            "DJ Bravo           32\n",
            "JP Faulkner        28\n",
            "MG Johnson         24\n",
            "Harbhajan Singh    24\n",
            "R Vinay Kumar      23\n",
            "Name: bowler, dtype: int64\n",
            "The most wicket taking  bowlers IPL-2014 are : bowler\n",
            "MM Sharma         23\n",
            "SP Narine         21\n",
            "B Kumar           20\n",
            "RA Jadeja         19\n",
            "Sandeep Sharma    18\n",
            "Name: bowler, dtype: int64\n",
            "The most wicket taking  bowlers IPL-2015 are : bowler\n",
            "DJ Bravo      26\n",
            "SL Malinga    24\n",
            "YS Chahal     23\n",
            "A Nehra       22\n",
            "MA Starc      20\n",
            "Name: bowler, dtype: int64\n",
            "The most wicket taking  bowlers IPL-2016 are : bowler\n",
            "B Kumar        23\n",
            "YS Chahal      21\n",
            "SR Watson      20\n",
            "DS Kulkarni    18\n",
            "DJ Bravo       17\n",
            "Name: bowler, dtype: int64\n",
            "The most wicket taking  bowlers IPL-2017 are : bowler\n",
            "B Kumar           26\n",
            "JD Unadkat        24\n",
            "JJ Bumrah         20\n",
            "MJ McClenaghan    19\n",
            "Imran Tahir       18\n",
            "Name: bowler, dtype: int64\n",
            "The most wicket taking  bowlers IPL-2018 are : bowler\n",
            "AJ Tye         24\n",
            "S Kaul         21\n",
            "Rashid Khan    21\n",
            "UT Yadav       20\n",
            "TA Boult       18\n",
            "Name: bowler, dtype: int64\n",
            "The most wicket taking  bowlers IPL-2019 are : bowler\n",
            "Imran Tahir       26\n",
            "K Rabada          25\n",
            "DL Chahar         22\n",
            "S Gopal           20\n",
            "Mohammed Shami    19\n",
            "Name: bowler, dtype: int64\n"
          ],
          "name": "stdout"
        },
        {
          "output_type": "display_data",
          "data": {
            "image/png": "[encoded data removed]",
            "text/plain": [
              "<Figure size 432x288 with 1 Axes>"
            ]
          },
          "metadata": {
            "tags": [],
            "needs_background": "light"
          }
        },
        {
          "output_type": "display_data",
          "data": {
            "image/png": "[encoded data removed]",
            "text/plain": [
              "<Figure size 432x288 with 1 Axes>"
            ]
          },
          "metadata": {
            "tags": [],
            "needs_background": "light"
          }
        },
        {
          "output_type": "display_data",
          "data": {
            "image/png": "[encoded data removed]",
            "text/plain": [
              "<Figure size 432x288 with 1 Axes>"
            ]
          },
          "metadata": {
            "tags": [],
            "needs_background": "light"
          }
        },
        {
          "output_type": "display_data",
          "data": {
            "image/png": "[encoded data removed]",
            "text/plain": [
              "<Figure size 432x288 with 1 Axes>"
            ]
          },
          "metadata": {
            "tags": [],
            "needs_background": "light"
          }
        },
        {
          "output_type": "display_data",
          "data": {
            "image/png": "[encoded data removed]",
            "text/plain": [
              "<Figure size 432x288 with 1 Axes>"
            ]
          },
          "metadata": {
            "tags": [],
            "needs_background": "light"
          }
        },
        {
          "output_type": "display_data",
          "data": {
            "image/png": "[encoded data removed]",
            "text/plain": [
              "<Figure size 432x288 with 1 Axes>"
            ]
          },
          "metadata": {
            "tags": [],
            "needs_background": "light"
          }
        },
        {
          "output_type": "display_data",
          "data": {
            "image/png": "[encoded data removed]",
            "text/plain": [
              "<Figure size 432x288 with 1 Axes>"
            ]
          },
          "metadata": {
            "tags": [],
            "needs_background": "light"
          }
        },
        {
          "output_type": "display_data",
          "data": {
            "image/png": "[encoded data removed]",
            "text/plain": [
              "<Figure size 432x288 with 1 Axes>"
            ]
          },
          "metadata": {
            "tags": [],
            "needs_background": "light"
          }
        },
        {
          "output_type": "display_data",
          "data": {
            "image/png": "[encoded data removed]",
            "text/plain": [
              "<Figure size 432x288 with 1 Axes>"
            ]
          },
          "metadata": {
            "tags": [],
            "needs_background": "light"
          }
        },
        {
          "output_type": "display_data",
          "data": {
            "image/png": "[encoded data removed]",
            "text/plain": [
              "<Figure size 432x288 with 1 Axes>"
            ]
          },
          "metadata": {
            "tags": [],
            "needs_background": "light"
          }
        },
        {
          "output_type": "display_data",
          "data": {
            "image/png": "[encoded data removed]",
            "text/plain": [
              "<Figure size 432x288 with 1 Axes>"
            ]
          },
          "metadata": {
            "tags": [],
            "needs_background": "light"
          }
        },
        {
          "output_type": "display_data",
          "data": {
            "image/png": "[encoded data removed]",
            "text/plain": [
              "<Figure size 432x288 with 1 Axes>"
            ]
          },
          "metadata": {
            "tags": [],
            "needs_background": "light"
          }
        }
      ]
    },
    {
      "cell_type": "code",
      "metadata": {
        "colab": {
          "base_uri": "https://localhost:8080/"
        },
        "id": "zTlvcSZ8opc3",
        "outputId": "eb2ae8ce-a656-4e9a-98d2-3528fc05fab9"
      },
      "source": [
        "l=[]\n",
        "for i in merging_delievery_matches[\"team1\"]:\n",
        "  l.append(i)\n",
        "t=tuple(set(l))\n",
        "print(t)"
      ],
      "execution_count": null,
      "outputs": [
        {
          "output_type": "stream",
          "text": [
            "('Mumbai Indians', 'Kochi Tuskers Kerala', 'Gujarat Lions', 'Delhi Daredevils', 'Kings XI Punjab', 'Chennai Super Kings', 'Rajasthan Royals', 'Sunrisers Hyderabad', 'Rising Pune Supergiants', 'Kolkata Knight Riders', 'Delhi Capitals', 'Pune Warriors', 'Deccan Chargers', 'Rising Pune Supergiant', 'Royal Challengers Bangalore')\n"
          ],
          "name": "stdout"
        }
      ]
    },
    {
      "cell_type": "code",
      "metadata": {
        "id": "iglDqgv4patr"
      },
      "source": [
        "\n"
      ],
      "execution_count": null,
      "outputs": []
    },
    {
      "cell_type": "code",
      "metadata": {
        "id": "N4pLYLYYygL1"
      },
      "source": [
        "def first_runs_scored(x):\n",
        "  merging_delievery_matches=pd.merge(delievery_csv,matches_csv,how=\"inner\", left_on=[\"match_id\"],right_on=[\"id\"])\n",
        "  #filtering specific for the particular season and evaluation total runs scored by each batsman\n",
        "  merge_particular_season=m[m[\"Season\"]==x]\n",
        "  return(merge_particular_season.groupby(\"batsman\")[\"batsman_runs\"].sum().sort_values(ascending=False))[:1]\n",
        "\n"
      ],
      "execution_count": null,
      "outputs": []
    },
    {
      "cell_type": "code",
      "metadata": {
        "id": "c5zkZiQX6-NC"
      },
      "source": [
        "def most_runs_scored(x,y):\n",
        "  try:\n",
        "    merging_delievery_matches=pd.merge(delievery_csv,matches_csv,how=\"inner\", left_on=[\"match_id\"],right_on=[\"id\"])\n",
        "    #filtering specific for the particular season and evaluation total runs scored by each batsman\n",
        "    merge_particular_season=merging_delievery_matches[(merging_delievery_matches[\"Season\"]==x) & (merging_delievery_matches[\"match_id\"]==y)]\n",
        "    return(merge_particular_season.groupby(\"batsman\")[\"batsman_runs\"].sum().sort_values(ascending=False))\n",
        "    print(pd.DataFrame(merge_particular_season.groupby(\"batsman\")[\"batsman_runs\"].sum().sort_values(ascending=False)).plot(kind=\"barh\"))\n",
        "\n",
        "  except:\n",
        "    print(\"match ID and IPL year does not match\")\n"
      ],
      "execution_count": null,
      "outputs": []
    },
    {
      "cell_type": "code",
      "metadata": {
        "colab": {
          "base_uri": "https://localhost:8080/"
        },
        "id": "l6q-qg45CRrR",
        "outputId": "64ce67d7-7982-4410-c61f-fa16a2b5ed2a"
      },
      "source": [
        "most_runs_scored(x=\"IPL-2017\",y=3)"
      ],
      "execution_count": null,
      "outputs": [
        {
          "output_type": "execute_result",
          "data": {
            "text/plain": [
              "batsman\n",
              "CA Lynn        93\n",
              "G Gambhir      76\n",
              "SK Raina       68\n",
              "KD Karthik     47\n",
              "BB McCullum    35\n",
              "AJ Finch       15\n",
              "JJ Roy         14\n",
              "Name: batsman_runs, dtype: int64"
            ]
          },
          "metadata": {
            "tags": []
          },
          "execution_count": 40
        }
      ]
    },
    {
      "cell_type": "code",
      "metadata": {
        "colab": {
          "base_uri": "https://localhost:8080/",
          "height": 1000
        },
        "id": "PPKK_KFJCUg8",
        "outputId": "dfaef991-ad60-4e68-8f15-37ec8ba69e05"
      },
      "source": [
        "merging_delievery_matches"
      ],
      "execution_count": null,
      "outputs": [
        {
          "output_type": "execute_result",
          "data": {
            "text/html": [
              "<div>\n",
              "<style scoped>\n",
              "    .dataframe tbody tr th:only-of-type {\n",
              "        vertical-align: middle;\n",
              "    }\n",
              "\n",
              "    .dataframe tbody tr th {\n",
              "        vertical-align: top;\n",
              "    }\n",
              "\n",
              "    .dataframe thead th {\n",
              "        text-align: right;\n",
              "    }\n",
              "</style>\n",
              "<table border=\"1\" class=\"dataframe\">\n",
              "  <thead>\n",
              "    <tr style=\"text-align: right;\">\n",
              "      <th></th>\n",
              "      <th>match_id</th>\n",
              "      <th>inning</th>\n",
              "      <th>batting_team</th>\n",
              "      <th>bowling_team</th>\n",
              "      <th>over</th>\n",
              "      <th>ball</th>\n",
              "      <th>batsman</th>\n",
              "      <th>non_striker</th>\n",
              "      <th>bowler</th>\n",
              "      <th>is_super_over</th>\n",
              "      <th>wide_runs</th>\n",
              "      <th>bye_runs</th>\n",
              "      <th>legbye_runs</th>\n",
              "      <th>noball_runs</th>\n",
              "      <th>penalty_runs</th>\n",
              "      <th>batsman_runs</th>\n",
              "      <th>extra_runs</th>\n",
              "      <th>total_runs</th>\n",
              "      <th>player_dismissed</th>\n",
              "      <th>dismissal_kind</th>\n",
              "      <th>fielder</th>\n",
              "      <th>id</th>\n",
              "      <th>Season</th>\n",
              "      <th>city</th>\n",
              "      <th>date</th>\n",
              "      <th>team1</th>\n",
              "      <th>team2</th>\n",
              "      <th>toss_winner</th>\n",
              "      <th>toss_decision</th>\n",
              "      <th>result</th>\n",
              "      <th>dl_applied</th>\n",
              "      <th>winner</th>\n",
              "      <th>win_by_runs</th>\n",
              "      <th>win_by_wickets</th>\n",
              "      <th>player_of_match</th>\n",
              "      <th>venue</th>\n",
              "      <th>umpire1</th>\n",
              "      <th>umpire2</th>\n",
              "      <th>umpire3</th>\n",
              "    </tr>\n",
              "  </thead>\n",
              "  <tbody>\n",
              "    <tr>\n",
              "      <th>0</th>\n",
              "      <td>1</td>\n",
              "      <td>1</td>\n",
              "      <td>Sunrisers Hyderabad</td>\n",
              "      <td>Royal Challengers Bangalore</td>\n",
              "      <td>1</td>\n",
              "      <td>1</td>\n",
              "      <td>DA Warner</td>\n",
              "      <td>S Dhawan</td>\n",
              "      <td>TS Mills</td>\n",
              "      <td>0</td>\n",
              "      <td>0</td>\n",
              "      <td>0</td>\n",
              "      <td>0</td>\n",
              "      <td>0</td>\n",
              "      <td>0</td>\n",
              "      <td>0</td>\n",
              "      <td>0</td>\n",
              "      <td>0</td>\n",
              "      <td>NaN</td>\n",
              "      <td>NaN</td>\n",
              "      <td>NaN</td>\n",
              "      <td>1</td>\n",
              "      <td>IPL-2017</td>\n",
              "      <td>Hyderabad</td>\n",
              "      <td>05-04-2017</td>\n",
              "      <td>Sunrisers Hyderabad</td>\n",
              "      <td>Royal Challengers Bangalore</td>\n",
              "      <td>Royal Challengers Bangalore</td>\n",
              "      <td>field</td>\n",
              "      <td>normal</td>\n",
              "      <td>0</td>\n",
              "      <td>Sunrisers Hyderabad</td>\n",
              "      <td>35</td>\n",
              "      <td>0</td>\n",
              "      <td>Yuvraj Singh</td>\n",
              "      <td>Rajiv Gandhi International Stadium, Uppal</td>\n",
              "      <td>AY Dandekar</td>\n",
              "      <td>NJ Llong</td>\n",
              "      <td>NaN</td>\n",
              "    </tr>\n",
              "    <tr>\n",
              "      <th>1</th>\n",
              "      <td>1</td>\n",
              "      <td>1</td>\n",
              "      <td>Sunrisers Hyderabad</td>\n",
              "      <td>Royal Challengers Bangalore</td>\n",
              "      <td>1</td>\n",
              "      <td>2</td>\n",
              "      <td>DA Warner</td>\n",
              "      <td>S Dhawan</td>\n",
              "      <td>TS Mills</td>\n",
              "      <td>0</td>\n",
              "      <td>0</td>\n",
              "      <td>0</td>\n",
              "      <td>0</td>\n",
              "      <td>0</td>\n",
              "      <td>0</td>\n",
              "      <td>0</td>\n",
              "      <td>0</td>\n",
              "      <td>0</td>\n",
              "      <td>NaN</td>\n",
              "      <td>NaN</td>\n",
              "      <td>NaN</td>\n",
              "      <td>1</td>\n",
              "      <td>IPL-2017</td>\n",
              "      <td>Hyderabad</td>\n",
              "      <td>05-04-2017</td>\n",
              "      <td>Sunrisers Hyderabad</td>\n",
              "      <td>Royal Challengers Bangalore</td>\n",
              "      <td>Royal Challengers Bangalore</td>\n",
              "      <td>field</td>\n",
              "      <td>normal</td>\n",
              "      <td>0</td>\n",
              "      <td>Sunrisers Hyderabad</td>\n",
              "      <td>35</td>\n",
              "      <td>0</td>\n",
              "      <td>Yuvraj Singh</td>\n",
              "      <td>Rajiv Gandhi International Stadium, Uppal</td>\n",
              "      <td>AY Dandekar</td>\n",
              "      <td>NJ Llong</td>\n",
              "      <td>NaN</td>\n",
              "    </tr>\n",
              "    <tr>\n",
              "      <th>2</th>\n",
              "      <td>1</td>\n",
              "      <td>1</td>\n",
              "      <td>Sunrisers Hyderabad</td>\n",
              "      <td>Royal Challengers Bangalore</td>\n",
              "      <td>1</td>\n",
              "      <td>3</td>\n",
              "      <td>DA Warner</td>\n",
              "      <td>S Dhawan</td>\n",
              "      <td>TS Mills</td>\n",
              "      <td>0</td>\n",
              "      <td>0</td>\n",
              "      <td>0</td>\n",
              "      <td>0</td>\n",
              "      <td>0</td>\n",
              "      <td>0</td>\n",
              "      <td>4</td>\n",
              "      <td>0</td>\n",
              "      <td>4</td>\n",
              "      <td>NaN</td>\n",
              "      <td>NaN</td>\n",
              "      <td>NaN</td>\n",
              "      <td>1</td>\n",
              "      <td>IPL-2017</td>\n",
              "      <td>Hyderabad</td>\n",
              "      <td>05-04-2017</td>\n",
              "      <td>Sunrisers Hyderabad</td>\n",
              "      <td>Royal Challengers Bangalore</td>\n",
              "      <td>Royal Challengers Bangalore</td>\n",
              "      <td>field</td>\n",
              "      <td>normal</td>\n",
              "      <td>0</td>\n",
              "      <td>Sunrisers Hyderabad</td>\n",
              "      <td>35</td>\n",
              "      <td>0</td>\n",
              "      <td>Yuvraj Singh</td>\n",
              "      <td>Rajiv Gandhi International Stadium, Uppal</td>\n",
              "      <td>AY Dandekar</td>\n",
              "      <td>NJ Llong</td>\n",
              "      <td>NaN</td>\n",
              "    </tr>\n",
              "    <tr>\n",
              "      <th>3</th>\n",
              "      <td>1</td>\n",
              "      <td>1</td>\n",
              "      <td>Sunrisers Hyderabad</td>\n",
              "      <td>Royal Challengers Bangalore</td>\n",
              "      <td>1</td>\n",
              "      <td>4</td>\n",
              "      <td>DA Warner</td>\n",
              "      <td>S Dhawan</td>\n",
              "      <td>TS Mills</td>\n",
              "      <td>0</td>\n",
              "      <td>0</td>\n",
              "      <td>0</td>\n",
              "      <td>0</td>\n",
              "      <td>0</td>\n",
              "      <td>0</td>\n",
              "      <td>0</td>\n",
              "      <td>0</td>\n",
              "      <td>0</td>\n",
              "      <td>NaN</td>\n",
              "      <td>NaN</td>\n",
              "      <td>NaN</td>\n",
              "      <td>1</td>\n",
              "      <td>IPL-2017</td>\n",
              "      <td>Hyderabad</td>\n",
              "      <td>05-04-2017</td>\n",
              "      <td>Sunrisers Hyderabad</td>\n",
              "      <td>Royal Challengers Bangalore</td>\n",
              "      <td>Royal Challengers Bangalore</td>\n",
              "      <td>field</td>\n",
              "      <td>normal</td>\n",
              "      <td>0</td>\n",
              "      <td>Sunrisers Hyderabad</td>\n",
              "      <td>35</td>\n",
              "      <td>0</td>\n",
              "      <td>Yuvraj Singh</td>\n",
              "      <td>Rajiv Gandhi International Stadium, Uppal</td>\n",
              "      <td>AY Dandekar</td>\n",
              "      <td>NJ Llong</td>\n",
              "      <td>NaN</td>\n",
              "    </tr>\n",
              "    <tr>\n",
              "      <th>4</th>\n",
              "      <td>1</td>\n",
              "      <td>1</td>\n",
              "      <td>Sunrisers Hyderabad</td>\n",
              "      <td>Royal Challengers Bangalore</td>\n",
              "      <td>1</td>\n",
              "      <td>5</td>\n",
              "      <td>DA Warner</td>\n",
              "      <td>S Dhawan</td>\n",
              "      <td>TS Mills</td>\n",
              "      <td>0</td>\n",
              "      <td>2</td>\n",
              "      <td>0</td>\n",
              "      <td>0</td>\n",
              "      <td>0</td>\n",
              "      <td>0</td>\n",
              "      <td>0</td>\n",
              "      <td>2</td>\n",
              "      <td>2</td>\n",
              "      <td>NaN</td>\n",
              "      <td>NaN</td>\n",
              "      <td>NaN</td>\n",
              "      <td>1</td>\n",
              "      <td>IPL-2017</td>\n",
              "      <td>Hyderabad</td>\n",
              "      <td>05-04-2017</td>\n",
              "      <td>Sunrisers Hyderabad</td>\n",
              "      <td>Royal Challengers Bangalore</td>\n",
              "      <td>Royal Challengers Bangalore</td>\n",
              "      <td>field</td>\n",
              "      <td>normal</td>\n",
              "      <td>0</td>\n",
              "      <td>Sunrisers Hyderabad</td>\n",
              "      <td>35</td>\n",
              "      <td>0</td>\n",
              "      <td>Yuvraj Singh</td>\n",
              "      <td>Rajiv Gandhi International Stadium, Uppal</td>\n",
              "      <td>AY Dandekar</td>\n",
              "      <td>NJ Llong</td>\n",
              "      <td>NaN</td>\n",
              "    </tr>\n",
              "    <tr>\n",
              "      <th>...</th>\n",
              "      <td>...</td>\n",
              "      <td>...</td>\n",
              "      <td>...</td>\n",
              "      <td>...</td>\n",
              "      <td>...</td>\n",
              "      <td>...</td>\n",
              "      <td>...</td>\n",
              "      <td>...</td>\n",
              "      <td>...</td>\n",
              "      <td>...</td>\n",
              "      <td>...</td>\n",
              "      <td>...</td>\n",
              "      <td>...</td>\n",
              "      <td>...</td>\n",
              "      <td>...</td>\n",
              "      <td>...</td>\n",
              "      <td>...</td>\n",
              "      <td>...</td>\n",
              "      <td>...</td>\n",
              "      <td>...</td>\n",
              "      <td>...</td>\n",
              "      <td>...</td>\n",
              "      <td>...</td>\n",
              "      <td>...</td>\n",
              "      <td>...</td>\n",
              "      <td>...</td>\n",
              "      <td>...</td>\n",
              "      <td>...</td>\n",
              "      <td>...</td>\n",
              "      <td>...</td>\n",
              "      <td>...</td>\n",
              "      <td>...</td>\n",
              "      <td>...</td>\n",
              "      <td>...</td>\n",
              "      <td>...</td>\n",
              "      <td>...</td>\n",
              "      <td>...</td>\n",
              "      <td>...</td>\n",
              "      <td>...</td>\n",
              "    </tr>\n",
              "    <tr>\n",
              "      <th>179073</th>\n",
              "      <td>11415</td>\n",
              "      <td>2</td>\n",
              "      <td>Chennai Super Kings</td>\n",
              "      <td>Mumbai Indians</td>\n",
              "      <td>20</td>\n",
              "      <td>2</td>\n",
              "      <td>RA Jadeja</td>\n",
              "      <td>SR Watson</td>\n",
              "      <td>SL Malinga</td>\n",
              "      <td>0</td>\n",
              "      <td>0</td>\n",
              "      <td>0</td>\n",
              "      <td>0</td>\n",
              "      <td>0</td>\n",
              "      <td>0</td>\n",
              "      <td>1</td>\n",
              "      <td>0</td>\n",
              "      <td>1</td>\n",
              "      <td>NaN</td>\n",
              "      <td>NaN</td>\n",
              "      <td>NaN</td>\n",
              "      <td>11415</td>\n",
              "      <td>IPL-2019</td>\n",
              "      <td>Hyderabad</td>\n",
              "      <td>12-05-2019</td>\n",
              "      <td>Mumbai Indians</td>\n",
              "      <td>Chennai Super Kings</td>\n",
              "      <td>Mumbai Indians</td>\n",
              "      <td>bat</td>\n",
              "      <td>normal</td>\n",
              "      <td>0</td>\n",
              "      <td>Mumbai Indians</td>\n",
              "      <td>1</td>\n",
              "      <td>0</td>\n",
              "      <td>JJ Bumrah</td>\n",
              "      <td>Rajiv Gandhi Intl. Cricket Stadium</td>\n",
              "      <td>Nitin Menon</td>\n",
              "      <td>Ian Gould</td>\n",
              "      <td>Nigel Llong</td>\n",
              "    </tr>\n",
              "    <tr>\n",
              "      <th>179074</th>\n",
              "      <td>11415</td>\n",
              "      <td>2</td>\n",
              "      <td>Chennai Super Kings</td>\n",
              "      <td>Mumbai Indians</td>\n",
              "      <td>20</td>\n",
              "      <td>3</td>\n",
              "      <td>SR Watson</td>\n",
              "      <td>RA Jadeja</td>\n",
              "      <td>SL Malinga</td>\n",
              "      <td>0</td>\n",
              "      <td>0</td>\n",
              "      <td>0</td>\n",
              "      <td>0</td>\n",
              "      <td>0</td>\n",
              "      <td>0</td>\n",
              "      <td>2</td>\n",
              "      <td>0</td>\n",
              "      <td>2</td>\n",
              "      <td>NaN</td>\n",
              "      <td>NaN</td>\n",
              "      <td>NaN</td>\n",
              "      <td>11415</td>\n",
              "      <td>IPL-2019</td>\n",
              "      <td>Hyderabad</td>\n",
              "      <td>12-05-2019</td>\n",
              "      <td>Mumbai Indians</td>\n",
              "      <td>Chennai Super Kings</td>\n",
              "      <td>Mumbai Indians</td>\n",
              "      <td>bat</td>\n",
              "      <td>normal</td>\n",
              "      <td>0</td>\n",
              "      <td>Mumbai Indians</td>\n",
              "      <td>1</td>\n",
              "      <td>0</td>\n",
              "      <td>JJ Bumrah</td>\n",
              "      <td>Rajiv Gandhi Intl. Cricket Stadium</td>\n",
              "      <td>Nitin Menon</td>\n",
              "      <td>Ian Gould</td>\n",
              "      <td>Nigel Llong</td>\n",
              "    </tr>\n",
              "    <tr>\n",
              "      <th>179075</th>\n",
              "      <td>11415</td>\n",
              "      <td>2</td>\n",
              "      <td>Chennai Super Kings</td>\n",
              "      <td>Mumbai Indians</td>\n",
              "      <td>20</td>\n",
              "      <td>4</td>\n",
              "      <td>SR Watson</td>\n",
              "      <td>RA Jadeja</td>\n",
              "      <td>SL Malinga</td>\n",
              "      <td>0</td>\n",
              "      <td>0</td>\n",
              "      <td>0</td>\n",
              "      <td>0</td>\n",
              "      <td>0</td>\n",
              "      <td>0</td>\n",
              "      <td>1</td>\n",
              "      <td>0</td>\n",
              "      <td>1</td>\n",
              "      <td>SR Watson</td>\n",
              "      <td>run out</td>\n",
              "      <td>KH Pandya</td>\n",
              "      <td>11415</td>\n",
              "      <td>IPL-2019</td>\n",
              "      <td>Hyderabad</td>\n",
              "      <td>12-05-2019</td>\n",
              "      <td>Mumbai Indians</td>\n",
              "      <td>Chennai Super Kings</td>\n",
              "      <td>Mumbai Indians</td>\n",
              "      <td>bat</td>\n",
              "      <td>normal</td>\n",
              "      <td>0</td>\n",
              "      <td>Mumbai Indians</td>\n",
              "      <td>1</td>\n",
              "      <td>0</td>\n",
              "      <td>JJ Bumrah</td>\n",
              "      <td>Rajiv Gandhi Intl. Cricket Stadium</td>\n",
              "      <td>Nitin Menon</td>\n",
              "      <td>Ian Gould</td>\n",
              "      <td>Nigel Llong</td>\n",
              "    </tr>\n",
              "    <tr>\n",
              "      <th>179076</th>\n",
              "      <td>11415</td>\n",
              "      <td>2</td>\n",
              "      <td>Chennai Super Kings</td>\n",
              "      <td>Mumbai Indians</td>\n",
              "      <td>20</td>\n",
              "      <td>5</td>\n",
              "      <td>SN Thakur</td>\n",
              "      <td>RA Jadeja</td>\n",
              "      <td>SL Malinga</td>\n",
              "      <td>0</td>\n",
              "      <td>0</td>\n",
              "      <td>0</td>\n",
              "      <td>0</td>\n",
              "      <td>0</td>\n",
              "      <td>0</td>\n",
              "      <td>2</td>\n",
              "      <td>0</td>\n",
              "      <td>2</td>\n",
              "      <td>NaN</td>\n",
              "      <td>NaN</td>\n",
              "      <td>NaN</td>\n",
              "      <td>11415</td>\n",
              "      <td>IPL-2019</td>\n",
              "      <td>Hyderabad</td>\n",
              "      <td>12-05-2019</td>\n",
              "      <td>Mumbai Indians</td>\n",
              "      <td>Chennai Super Kings</td>\n",
              "      <td>Mumbai Indians</td>\n",
              "      <td>bat</td>\n",
              "      <td>normal</td>\n",
              "      <td>0</td>\n",
              "      <td>Mumbai Indians</td>\n",
              "      <td>1</td>\n",
              "      <td>0</td>\n",
              "      <td>JJ Bumrah</td>\n",
              "      <td>Rajiv Gandhi Intl. Cricket Stadium</td>\n",
              "      <td>Nitin Menon</td>\n",
              "      <td>Ian Gould</td>\n",
              "      <td>Nigel Llong</td>\n",
              "    </tr>\n",
              "    <tr>\n",
              "      <th>179077</th>\n",
              "      <td>11415</td>\n",
              "      <td>2</td>\n",
              "      <td>Chennai Super Kings</td>\n",
              "      <td>Mumbai Indians</td>\n",
              "      <td>20</td>\n",
              "      <td>6</td>\n",
              "      <td>SN Thakur</td>\n",
              "      <td>RA Jadeja</td>\n",
              "      <td>SL Malinga</td>\n",
              "      <td>0</td>\n",
              "      <td>0</td>\n",
              "      <td>0</td>\n",
              "      <td>0</td>\n",
              "      <td>0</td>\n",
              "      <td>0</td>\n",
              "      <td>0</td>\n",
              "      <td>0</td>\n",
              "      <td>0</td>\n",
              "      <td>SN Thakur</td>\n",
              "      <td>lbw</td>\n",
              "      <td>NaN</td>\n",
              "      <td>11415</td>\n",
              "      <td>IPL-2019</td>\n",
              "      <td>Hyderabad</td>\n",
              "      <td>12-05-2019</td>\n",
              "      <td>Mumbai Indians</td>\n",
              "      <td>Chennai Super Kings</td>\n",
              "      <td>Mumbai Indians</td>\n",
              "      <td>bat</td>\n",
              "      <td>normal</td>\n",
              "      <td>0</td>\n",
              "      <td>Mumbai Indians</td>\n",
              "      <td>1</td>\n",
              "      <td>0</td>\n",
              "      <td>JJ Bumrah</td>\n",
              "      <td>Rajiv Gandhi Intl. Cricket Stadium</td>\n",
              "      <td>Nitin Menon</td>\n",
              "      <td>Ian Gould</td>\n",
              "      <td>Nigel Llong</td>\n",
              "    </tr>\n",
              "  </tbody>\n",
              "</table>\n",
              "<p>179078 rows × 39 columns</p>\n",
              "</div>"
            ],
            "text/plain": [
              "        match_id  inning  ...    umpire2      umpire3\n",
              "0              1       1  ...   NJ Llong          NaN\n",
              "1              1       1  ...   NJ Llong          NaN\n",
              "2              1       1  ...   NJ Llong          NaN\n",
              "3              1       1  ...   NJ Llong          NaN\n",
              "4              1       1  ...   NJ Llong          NaN\n",
              "...          ...     ...  ...        ...          ...\n",
              "179073     11415       2  ...  Ian Gould  Nigel Llong\n",
              "179074     11415       2  ...  Ian Gould  Nigel Llong\n",
              "179075     11415       2  ...  Ian Gould  Nigel Llong\n",
              "179076     11415       2  ...  Ian Gould  Nigel Llong\n",
              "179077     11415       2  ...  Ian Gould  Nigel Llong\n",
              "\n",
              "[179078 rows x 39 columns]"
            ]
          },
          "metadata": {
            "tags": []
          },
          "execution_count": 125
        }
      ]
    },
    {
      "cell_type": "code",
      "metadata": {
        "id": "e8zBFByxDA0w"
      },
      "source": [
        "def most_wicketer_per_match(x,y):\n",
        "  merging_delievery_matches=pd.merge(delievery_csv,matches_csv,how=\"inner\", left_on=[\"match_id\"],right_on=[\"id\"])\n",
        "  #filtering specific for the particular season and evaluation total runs scored by each batsman\n",
        "  merge_particular_season=merging_delievery_matches[(merging_delievery_matches[\"Season\"]==x) &(merging_delievery_matches[\"match_id\"]==y)]\n",
        "  wickets=merge_particular_season[(merge_particular_season[\"dismissal_kind\"]==\"caught\") | (merge_particular_season[\"dismissal_kind\"]==\"bowled\") | (merge_particular_season[\"dismissal_kind\"]==\"bowled\") | (merge_particular_season[\"dismissal_kind\"]==\"lbw\") | (merge_particular_season[\"dismissal_kind\"]==\"stumped\") | (merge_particular_season[\"dismissal_kind\"]==\"caught and bowled\") | (merge_particular_season[\"dismissal_kind\"]==\"hit wicket\")]\n",
        "  return(wickets.groupby(\"bowler\")[\"bowler\"].count().sort_values(ascending=False)[:5])   \n"
      ],
      "execution_count": null,
      "outputs": []
    },
    {
      "cell_type": "code",
      "metadata": {
        "colab": {
          "base_uri": "https://localhost:8080/"
        },
        "id": "ZhLAEV9tj81N",
        "outputId": "aaea74e7-8397-4615-d855-d767d20f7b30"
      },
      "source": [
        "most_wicketer_per_match(\"IPL-2017\",1)"
      ],
      "execution_count": null,
      "outputs": [
        {
          "output_type": "execute_result",
          "data": {
            "text/plain": [
              "bowler\n",
              "Rashid Khan    2\n",
              "B Kumar        2\n",
              "A Nehra        2\n",
              "YS Chahal      1\n",
              "TS Mills       1\n",
              "Name: bowler, dtype: int64"
            ]
          },
          "metadata": {
            "tags": []
          },
          "execution_count": 21
        }
      ]
    },
    {
      "cell_type": "code",
      "metadata": {
        "id": "rxtY2WHikEmr"
      },
      "source": [
        ""
      ],
      "execution_count": null,
      "outputs": []
    }
  ]
}